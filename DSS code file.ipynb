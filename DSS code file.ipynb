{
 "cells": [
  {
   "cell_type": "code",
   "execution_count": 1,
   "metadata": {
    "execution": {
     "iopub.execute_input": "2023-10-04T07:53:29.200331Z",
     "iopub.status.busy": "2023-10-04T07:53:29.199936Z",
     "iopub.status.idle": "2023-10-04T07:53:29.678698Z",
     "shell.execute_reply": "2023-10-04T07:53:29.677639Z",
     "shell.execute_reply.started": "2023-10-04T07:53:29.2003Z"
    }
   },
   "outputs": [],
   "source": [
    "import pandas as pd\n",
    "train_df = pd.read_csv(\"train.csv\")\n",
    "test_df = pd.read_csv(\"test.csv\")"
   ]
  },
  {
   "cell_type": "code",
   "execution_count": 2,
   "metadata": {
    "execution": {
     "iopub.execute_input": "2023-10-04T07:53:29.681217Z",
     "iopub.status.busy": "2023-10-04T07:53:29.680394Z",
     "iopub.status.idle": "2023-10-04T07:53:29.7047Z",
     "shell.execute_reply": "2023-10-04T07:53:29.703177Z",
     "shell.execute_reply.started": "2023-10-04T07:53:29.681174Z"
    }
   },
   "outputs": [
    {
     "data": {
      "text/html": [
       "<div>\n",
       "<style scoped>\n",
       "    .dataframe tbody tr th:only-of-type {\n",
       "        vertical-align: middle;\n",
       "    }\n",
       "\n",
       "    .dataframe tbody tr th {\n",
       "        vertical-align: top;\n",
       "    }\n",
       "\n",
       "    .dataframe thead th {\n",
       "        text-align: right;\n",
       "    }\n",
       "</style>\n",
       "<table border=\"1\" class=\"dataframe\">\n",
       "  <thead>\n",
       "    <tr style=\"text-align: right;\">\n",
       "      <th></th>\n",
       "      <th>id</th>\n",
       "      <th>keyword</th>\n",
       "      <th>location</th>\n",
       "      <th>text</th>\n",
       "      <th>target</th>\n",
       "    </tr>\n",
       "  </thead>\n",
       "  <tbody>\n",
       "    <tr>\n",
       "      <th>0</th>\n",
       "      <td>1</td>\n",
       "      <td>NaN</td>\n",
       "      <td>NaN</td>\n",
       "      <td>Our Deeds are the Reason of this #earthquake M...</td>\n",
       "      <td>1</td>\n",
       "    </tr>\n",
       "    <tr>\n",
       "      <th>1</th>\n",
       "      <td>4</td>\n",
       "      <td>NaN</td>\n",
       "      <td>NaN</td>\n",
       "      <td>Forest fire near La Ronge Sask. Canada</td>\n",
       "      <td>1</td>\n",
       "    </tr>\n",
       "    <tr>\n",
       "      <th>2</th>\n",
       "      <td>5</td>\n",
       "      <td>NaN</td>\n",
       "      <td>NaN</td>\n",
       "      <td>All residents asked to 'shelter in place' are ...</td>\n",
       "      <td>1</td>\n",
       "    </tr>\n",
       "    <tr>\n",
       "      <th>3</th>\n",
       "      <td>6</td>\n",
       "      <td>NaN</td>\n",
       "      <td>NaN</td>\n",
       "      <td>13,000 people receive #wildfires evacuation or...</td>\n",
       "      <td>1</td>\n",
       "    </tr>\n",
       "    <tr>\n",
       "      <th>4</th>\n",
       "      <td>7</td>\n",
       "      <td>NaN</td>\n",
       "      <td>NaN</td>\n",
       "      <td>Just got sent this photo from Ruby #Alaska as ...</td>\n",
       "      <td>1</td>\n",
       "    </tr>\n",
       "  </tbody>\n",
       "</table>\n",
       "</div>"
      ],
      "text/plain": [
       "   id keyword location                                               text  \\\n",
       "0   1     NaN      NaN  Our Deeds are the Reason of this #earthquake M...   \n",
       "1   4     NaN      NaN             Forest fire near La Ronge Sask. Canada   \n",
       "2   5     NaN      NaN  All residents asked to 'shelter in place' are ...   \n",
       "3   6     NaN      NaN  13,000 people receive #wildfires evacuation or...   \n",
       "4   7     NaN      NaN  Just got sent this photo from Ruby #Alaska as ...   \n",
       "\n",
       "   target  \n",
       "0       1  \n",
       "1       1  \n",
       "2       1  \n",
       "3       1  \n",
       "4       1  "
      ]
     },
     "execution_count": 2,
     "metadata": {},
     "output_type": "execute_result"
    }
   ],
   "source": [
    "train_df.head()"
   ]
  },
  {
   "cell_type": "code",
   "execution_count": 3,
   "metadata": {
    "execution": {
     "iopub.execute_input": "2023-10-04T07:53:29.70652Z",
     "iopub.status.busy": "2023-10-04T07:53:29.706082Z",
     "iopub.status.idle": "2023-10-04T07:53:29.717062Z",
     "shell.execute_reply": "2023-10-04T07:53:29.715946Z",
     "shell.execute_reply.started": "2023-10-04T07:53:29.706478Z"
    }
   },
   "outputs": [
    {
     "data": {
      "text/html": [
       "<div>\n",
       "<style scoped>\n",
       "    .dataframe tbody tr th:only-of-type {\n",
       "        vertical-align: middle;\n",
       "    }\n",
       "\n",
       "    .dataframe tbody tr th {\n",
       "        vertical-align: top;\n",
       "    }\n",
       "\n",
       "    .dataframe thead th {\n",
       "        text-align: right;\n",
       "    }\n",
       "</style>\n",
       "<table border=\"1\" class=\"dataframe\">\n",
       "  <thead>\n",
       "    <tr style=\"text-align: right;\">\n",
       "      <th></th>\n",
       "      <th>id</th>\n",
       "      <th>keyword</th>\n",
       "      <th>location</th>\n",
       "      <th>text</th>\n",
       "    </tr>\n",
       "  </thead>\n",
       "  <tbody>\n",
       "    <tr>\n",
       "      <th>0</th>\n",
       "      <td>0</td>\n",
       "      <td>NaN</td>\n",
       "      <td>NaN</td>\n",
       "      <td>Just happened a terrible car crash</td>\n",
       "    </tr>\n",
       "    <tr>\n",
       "      <th>1</th>\n",
       "      <td>2</td>\n",
       "      <td>NaN</td>\n",
       "      <td>NaN</td>\n",
       "      <td>Heard about #earthquake is different cities, s...</td>\n",
       "    </tr>\n",
       "    <tr>\n",
       "      <th>2</th>\n",
       "      <td>3</td>\n",
       "      <td>NaN</td>\n",
       "      <td>NaN</td>\n",
       "      <td>there is a forest fire at spot pond, geese are...</td>\n",
       "    </tr>\n",
       "    <tr>\n",
       "      <th>3</th>\n",
       "      <td>9</td>\n",
       "      <td>NaN</td>\n",
       "      <td>NaN</td>\n",
       "      <td>Apocalypse lighting. #Spokane #wildfires</td>\n",
       "    </tr>\n",
       "    <tr>\n",
       "      <th>4</th>\n",
       "      <td>11</td>\n",
       "      <td>NaN</td>\n",
       "      <td>NaN</td>\n",
       "      <td>Typhoon Soudelor kills 28 in China and Taiwan</td>\n",
       "    </tr>\n",
       "  </tbody>\n",
       "</table>\n",
       "</div>"
      ],
      "text/plain": [
       "   id keyword location                                               text\n",
       "0   0     NaN      NaN                 Just happened a terrible car crash\n",
       "1   2     NaN      NaN  Heard about #earthquake is different cities, s...\n",
       "2   3     NaN      NaN  there is a forest fire at spot pond, geese are...\n",
       "3   9     NaN      NaN           Apocalypse lighting. #Spokane #wildfires\n",
       "4  11     NaN      NaN      Typhoon Soudelor kills 28 in China and Taiwan"
      ]
     },
     "execution_count": 3,
     "metadata": {},
     "output_type": "execute_result"
    }
   ],
   "source": [
    "test_df.head()"
   ]
  },
  {
   "cell_type": "code",
   "execution_count": 4,
   "metadata": {
    "execution": {
     "iopub.execute_input": "2023-10-04T07:53:29.719587Z",
     "iopub.status.busy": "2023-10-04T07:53:29.719293Z",
     "iopub.status.idle": "2023-10-04T07:53:29.740065Z",
     "shell.execute_reply": "2023-10-04T07:53:29.738894Z",
     "shell.execute_reply.started": "2023-10-04T07:53:29.719563Z"
    }
   },
   "outputs": [
    {
     "data": {
      "text/plain": [
       "0    4342\n",
       "1    3271\n",
       "Name: target, dtype: int64"
      ]
     },
     "execution_count": 4,
     "metadata": {},
     "output_type": "execute_result"
    }
   ],
   "source": [
    "train_df.target.value_counts()"
   ]
  },
  {
   "cell_type": "code",
   "execution_count": 5,
   "metadata": {
    "execution": {
     "iopub.execute_input": "2023-10-04T07:53:29.742599Z",
     "iopub.status.busy": "2023-10-04T07:53:29.741749Z",
     "iopub.status.idle": "2023-10-04T07:53:29.751926Z",
     "shell.execute_reply": "2023-10-04T07:53:29.750822Z",
     "shell.execute_reply.started": "2023-10-04T07:53:29.742558Z"
    }
   },
   "outputs": [
    {
     "data": {
      "text/plain": [
       "10876"
      ]
     },
     "execution_count": 5,
     "metadata": {},
     "output_type": "execute_result"
    }
   ],
   "source": [
    "len(train_df) + len(test_df)"
   ]
  },
  {
   "cell_type": "code",
   "execution_count": 6,
   "metadata": {
    "execution": {
     "iopub.execute_input": "2023-10-04T07:53:29.754072Z",
     "iopub.status.busy": "2023-10-04T07:53:29.753414Z",
     "iopub.status.idle": "2023-10-04T07:53:29.776251Z",
     "shell.execute_reply": "2023-10-04T07:53:29.775306Z",
     "shell.execute_reply.started": "2023-10-04T07:53:29.75399Z"
    }
   },
   "outputs": [
    {
     "data": {
      "text/html": [
       "<div>\n",
       "<style scoped>\n",
       "    .dataframe tbody tr th:only-of-type {\n",
       "        vertical-align: middle;\n",
       "    }\n",
       "\n",
       "    .dataframe tbody tr th {\n",
       "        vertical-align: top;\n",
       "    }\n",
       "\n",
       "    .dataframe thead th {\n",
       "        text-align: right;\n",
       "    }\n",
       "</style>\n",
       "<table border=\"1\" class=\"dataframe\">\n",
       "  <thead>\n",
       "    <tr style=\"text-align: right;\">\n",
       "      <th></th>\n",
       "      <th>id</th>\n",
       "      <th>keyword</th>\n",
       "      <th>location</th>\n",
       "      <th>text</th>\n",
       "      <th>target</th>\n",
       "    </tr>\n",
       "  </thead>\n",
       "  <tbody>\n",
       "    <tr>\n",
       "      <th>2644</th>\n",
       "      <td>3796</td>\n",
       "      <td>destruction</td>\n",
       "      <td>NaN</td>\n",
       "      <td>So you have a new weapon that can cause un-ima...</td>\n",
       "      <td>1</td>\n",
       "    </tr>\n",
       "    <tr>\n",
       "      <th>2227</th>\n",
       "      <td>3185</td>\n",
       "      <td>deluge</td>\n",
       "      <td>NaN</td>\n",
       "      <td>The f$&amp;amp;@ing things I do for #GISHWHES Just...</td>\n",
       "      <td>0</td>\n",
       "    </tr>\n",
       "    <tr>\n",
       "      <th>5448</th>\n",
       "      <td>7769</td>\n",
       "      <td>police</td>\n",
       "      <td>UK</td>\n",
       "      <td>DT @georgegalloway: RT @Galloway4Mayor: ÛÏThe...</td>\n",
       "      <td>1</td>\n",
       "    </tr>\n",
       "    <tr>\n",
       "      <th>132</th>\n",
       "      <td>191</td>\n",
       "      <td>aftershock</td>\n",
       "      <td>NaN</td>\n",
       "      <td>Aftershock back to school kick off was great. ...</td>\n",
       "      <td>0</td>\n",
       "    </tr>\n",
       "    <tr>\n",
       "      <th>6845</th>\n",
       "      <td>9810</td>\n",
       "      <td>trauma</td>\n",
       "      <td>Montgomery County, MD</td>\n",
       "      <td>in response to trauma Children of Addicts deve...</td>\n",
       "      <td>0</td>\n",
       "    </tr>\n",
       "  </tbody>\n",
       "</table>\n",
       "</div>"
      ],
      "text/plain": [
       "        id      keyword               location  \\\n",
       "2644  3796  destruction                    NaN   \n",
       "2227  3185       deluge                    NaN   \n",
       "5448  7769       police                     UK   \n",
       "132    191   aftershock                    NaN   \n",
       "6845  9810       trauma  Montgomery County, MD   \n",
       "\n",
       "                                                   text  target  \n",
       "2644  So you have a new weapon that can cause un-ima...       1  \n",
       "2227  The f$&amp;@ing things I do for #GISHWHES Just...       0  \n",
       "5448  DT @georgegalloway: RT @Galloway4Mayor: ÛÏThe...       1  \n",
       "132   Aftershock back to school kick off was great. ...       0  \n",
       "6845  in response to trauma Children of Addicts deve...       0  "
      ]
     },
     "execution_count": 6,
     "metadata": {},
     "output_type": "execute_result"
    }
   ],
   "source": [
    "# shuffle the training data \n",
    "train_data = train_df.sample(frac =1, random_state = 42)\n",
    "train_data.head()"
   ]
  },
  {
   "cell_type": "code",
   "execution_count": 7,
   "metadata": {
    "execution": {
     "iopub.execute_input": "2023-10-04T07:53:29.778637Z",
     "iopub.status.busy": "2023-10-04T07:53:29.777599Z",
     "iopub.status.idle": "2023-10-04T07:53:29.791502Z",
     "shell.execute_reply": "2023-10-04T07:53:29.790406Z",
     "shell.execute_reply.started": "2023-10-04T07:53:29.778605Z"
    }
   },
   "outputs": [
    {
     "name": "stdout",
     "output_type": "stream",
     "text": [
      "Target: 0 (not real disater)\n",
      "Text: \n",
      " 320 [IR] ICEMOON [AFTERSHOCK] | http://t.co/vAM5POdGyw | @djicemoon | #Dubstep #TrapMusic #DnB #EDM #Dance #IcesÛ_ http://t.co/zEVakJaPcz \n",
      "\n",
      "...\n",
      "\n",
      "Target: 1 (real disater)\n",
      "Text: \n",
      " Families to sue over Legionnaires: More than 40 families affected by the fatal outbreak of Legionnaires' disea... http://t.co/ZA4AXFJSVB \n",
      "\n",
      "...\n",
      "\n",
      "Target: 0 (not real disater)\n",
      "Text: \n",
      " Had an awesome time gettin wrecked at bowling last night! http://t.co/Da9lZtOn1c \n",
      "\n",
      "...\n",
      "\n",
      "Target: 1 (real disater)\n",
      "Text: \n",
      " Do babies actually get electrocuted from wall sockets? I'm wondering how I and those before me survived childhood. \n",
      "\n",
      "...\n",
      "\n",
      "Target: 0 (not real disater)\n",
      "Text: \n",
      " Choking Hazard Prompts Recall Of Kraft Cheese Singles http://t.co/XGKyVF9t4f \n",
      "\n",
      "...\n",
      "\n"
     ]
    }
   ],
   "source": [
    "# visulize the data\n",
    "import random\n",
    "random_index = random.randint(0, len(train_df) - 5)\n",
    "\n",
    "for row in train_data[[\"text\", \"target\"]][random_index:random_index + 5].itertuples():\n",
    "    _,text, target = row\n",
    "    print(f\"Target: {target}\", \"(real disater)\" if target > 0 else \"(not real disater)\")\n",
    "    print(f\"Text: \\n {text} \\n\")\n",
    "    print(\"...\\n\")\n",
    "    "
   ]
  },
  {
   "cell_type": "code",
   "execution_count": 8,
   "metadata": {
    "execution": {
     "iopub.execute_input": "2023-10-04T07:53:29.793124Z",
     "iopub.status.busy": "2023-10-04T07:53:29.792815Z",
     "iopub.status.idle": "2023-10-04T07:53:31.235251Z",
     "shell.execute_reply": "2023-10-04T07:53:31.23419Z",
     "shell.execute_reply.started": "2023-10-04T07:53:29.793098Z"
    }
   },
   "outputs": [],
   "source": [
    "# split the data inot training and validation set\n",
    "from sklearn.model_selection import train_test_split\n",
    "\n",
    "train_sentences, val_sentences, train_labels, val_labels = train_test_split(train_data[\"text\"].to_numpy(),\n",
    "                                                                           train_data[\"target\"].to_numpy(),\n",
    "                                                                           test_size =0.1,\n",
    "                                                                           random_state = 42)"
   ]
  },
  {
   "cell_type": "code",
   "execution_count": 9,
   "metadata": {
    "execution": {
     "iopub.execute_input": "2023-10-04T07:53:31.237032Z",
     "iopub.status.busy": "2023-10-04T07:53:31.236595Z",
     "iopub.status.idle": "2023-10-04T07:53:31.24478Z",
     "shell.execute_reply": "2023-10-04T07:53:31.243538Z",
     "shell.execute_reply.started": "2023-10-04T07:53:31.236988Z"
    }
   },
   "outputs": [
    {
     "data": {
      "text/plain": [
       "(6851, 762, 6851, 762)"
      ]
     },
     "execution_count": 9,
     "metadata": {},
     "output_type": "execute_result"
    }
   ],
   "source": [
    "len(train_sentences), len(val_sentences), len(train_labels), len(val_labels)"
   ]
  },
  {
   "cell_type": "code",
   "execution_count": 10,
   "metadata": {
    "execution": {
     "iopub.execute_input": "2023-10-04T07:53:31.250889Z",
     "iopub.status.busy": "2023-10-04T07:53:31.249886Z",
     "iopub.status.idle": "2023-10-04T07:53:31.259904Z",
     "shell.execute_reply": "2023-10-04T07:53:31.258625Z",
     "shell.execute_reply.started": "2023-10-04T07:53:31.250842Z"
    }
   },
   "outputs": [
    {
     "data": {
      "text/plain": [
       "array(['@mogacola @zamtriossu i screamed after hitting tweet',\n",
       "       'Imagine getting flattened by Kurt Zouma',\n",
       "       '@Gurmeetramrahim #MSGDoing111WelfareWorks Green S welfare force ke appx 65000 members har time disaster victim ki help ke liye tyar hai....',\n",
       "       \"@shakjn @C7 @Magnums im shaking in fear he's gonna hack the planet\",\n",
       "       'Somehow find you and I collide http://t.co/Ee8RpOahPk',\n",
       "       '@EvaHanderek @MarleyKnysh great times until the bus driver held us hostage in the mall parking lot lmfao',\n",
       "       'destroy the free fandom honestly',\n",
       "       'Weapons stolen from National Guard Armory in New Albany still missing #Gunsense http://t.co/lKNU8902JE',\n",
       "       '@wfaaweather Pete when will the heat wave pass? Is it really going to be mid month? Frisco Boy Scouts have a canoe trip in Okla.',\n",
       "       'Patient-reported outcomes in long-term survivors of metastatic colorectal cancer - British Journal of Surgery http://t.co/5Yl4DC1Tqt'],\n",
       "      dtype=object)"
      ]
     },
     "execution_count": 10,
     "metadata": {},
     "output_type": "execute_result"
    }
   ],
   "source": [
    "train_sentences[:10]"
   ]
  },
  {
   "cell_type": "code",
   "execution_count": 11,
   "metadata": {
    "execution": {
     "iopub.execute_input": "2023-10-04T07:53:31.26214Z",
     "iopub.status.busy": "2023-10-04T07:53:31.261215Z",
     "iopub.status.idle": "2023-10-04T07:53:31.276111Z",
     "shell.execute_reply": "2023-10-04T07:53:31.274744Z",
     "shell.execute_reply.started": "2023-10-04T07:53:31.262084Z"
    }
   },
   "outputs": [
    {
     "data": {
      "text/plain": [
       "array([0, 0, 1, 0, 0, 1, 1, 0, 1, 1], dtype=int64)"
      ]
     },
     "execution_count": 11,
     "metadata": {},
     "output_type": "execute_result"
    }
   ],
   "source": [
    "train_labels[:10]"
   ]
  },
  {
   "cell_type": "markdown",
   "metadata": {},
   "source": [
    "## Text Vectorization"
   ]
  },
  {
   "cell_type": "code",
   "execution_count": 12,
   "metadata": {
    "execution": {
     "iopub.execute_input": "2023-10-04T07:53:31.278435Z",
     "iopub.status.busy": "2023-10-04T07:53:31.27747Z",
     "iopub.status.idle": "2023-10-04T07:53:41.429164Z",
     "shell.execute_reply": "2023-10-04T07:53:41.427944Z",
     "shell.execute_reply.started": "2023-10-04T07:53:31.278395Z"
    }
   },
   "outputs": [],
   "source": [
    "import tensorflow as tf\n",
    "from tensorflow.keras.layers import TextVectorization"
   ]
  },
  {
   "cell_type": "code",
   "execution_count": 13,
   "metadata": {
    "execution": {
     "iopub.execute_input": "2023-10-04T07:53:41.433204Z",
     "iopub.status.busy": "2023-10-04T07:53:41.431857Z",
     "iopub.status.idle": "2023-10-04T07:53:41.44814Z",
     "shell.execute_reply": "2023-10-04T07:53:41.44716Z",
     "shell.execute_reply.started": "2023-10-04T07:53:41.433171Z"
    }
   },
   "outputs": [
    {
     "data": {
      "text/plain": [
       "15"
      ]
     },
     "execution_count": 13,
     "metadata": {},
     "output_type": "execute_result"
    }
   ],
   "source": [
    "# average number of words or tokens in training data\n",
    "round(sum([len(i.split()) for i in train_sentences])/len(train_sentences))"
   ]
  },
  {
   "cell_type": "code",
   "execution_count": 14,
   "metadata": {
    "execution": {
     "iopub.execute_input": "2023-10-04T07:53:41.450163Z",
     "iopub.status.busy": "2023-10-04T07:53:41.449544Z",
     "iopub.status.idle": "2023-10-04T07:53:41.605898Z",
     "shell.execute_reply": "2023-10-04T07:53:41.604604Z",
     "shell.execute_reply.started": "2023-10-04T07:53:41.450128Z"
    }
   },
   "outputs": [],
   "source": [
    "text_vectorizer = TextVectorization(max_tokens = 10000,\n",
    "                                    output_mode = \"int\",\n",
    "                                    output_sequence_length = 15)"
   ]
  },
  {
   "cell_type": "code",
   "execution_count": 15,
   "metadata": {
    "execution": {
     "iopub.execute_input": "2023-10-04T07:53:41.608542Z",
     "iopub.status.busy": "2023-10-04T07:53:41.607723Z",
     "iopub.status.idle": "2023-10-04T07:53:42.477174Z",
     "shell.execute_reply": "2023-10-04T07:53:42.475897Z",
     "shell.execute_reply.started": "2023-10-04T07:53:41.6085Z"
    }
   },
   "outputs": [],
   "source": [
    "# fit the text vectorizer to data\n",
    "text_vectorizer.adapt(train_sentences)"
   ]
  },
  {
   "cell_type": "code",
   "execution_count": 16,
   "metadata": {
    "execution": {
     "iopub.execute_input": "2023-10-04T07:53:42.480095Z",
     "iopub.status.busy": "2023-10-04T07:53:42.479249Z",
     "iopub.status.idle": "2023-10-04T07:53:42.604887Z",
     "shell.execute_reply": "2023-10-04T07:53:42.603761Z",
     "shell.execute_reply.started": "2023-10-04T07:53:42.480053Z"
    }
   },
   "outputs": [
    {
     "name": "stdout",
     "output_type": "stream",
     "text": [
      "original @gigagil IOF murdered over 513 Palestinian children (70% under 12) during Gaza Massacre where was zionist morality-zionism is a world evil!\n",
      "Vectorized: [[   1    1 2035   60    1 1382  656  325  204  719  246 1849  344  221\n",
      "    23]]\n"
     ]
    }
   ],
   "source": [
    "# checking for the text vectorizer \n",
    "random_sentence = random.choice(train_sentences)\n",
    "print(f\"original {random_sentence}\")\n",
    "print(f\"Vectorized: {text_vectorizer([random_sentence])}\")"
   ]
  },
  {
   "cell_type": "code",
   "execution_count": 17,
   "metadata": {
    "execution": {
     "iopub.execute_input": "2023-10-04T07:53:42.607521Z",
     "iopub.status.busy": "2023-10-04T07:53:42.606721Z",
     "iopub.status.idle": "2023-10-04T07:53:42.640205Z",
     "shell.execute_reply": "2023-10-04T07:53:42.639135Z",
     "shell.execute_reply.started": "2023-10-04T07:53:42.607482Z"
    }
   },
   "outputs": [
    {
     "name": "stdout",
     "output_type": "stream",
     "text": [
      "Vocab 10000\n",
      "Top 5 words: ['', '[UNK]', 'the', 'a', 'in']\n",
      "Bottom 5 words: ['pages', 'paeds', 'pads', 'padres', 'paddytomlinson1']\n"
     ]
    }
   ],
   "source": [
    "# unique words in our dictionary\n",
    "words_in_vocab = text_vectorizer.get_vocabulary()\n",
    "top_5 = words_in_vocab[:5]\n",
    "bottom_5 = words_in_vocab[-5:]\n",
    "\n",
    "print(\"Vocab\", len(words_in_vocab))\n",
    "print(\"Top 5 words:\", top_5)\n",
    "print(\"Bottom 5 words:\", bottom_5)"
   ]
  },
  {
   "cell_type": "markdown",
   "metadata": {},
   "source": [
    "## Creating Embeddings"
   ]
  },
  {
   "cell_type": "code",
   "execution_count": 18,
   "metadata": {
    "execution": {
     "iopub.execute_input": "2023-10-04T07:53:42.642639Z",
     "iopub.status.busy": "2023-10-04T07:53:42.641869Z",
     "iopub.status.idle": "2023-10-04T07:53:42.663431Z",
     "shell.execute_reply": "2023-10-04T07:53:42.662298Z",
     "shell.execute_reply.started": "2023-10-04T07:53:42.6426Z"
    }
   },
   "outputs": [
    {
     "data": {
      "text/plain": [
       "<keras.layers.core.embedding.Embedding at 0x172eb55a508>"
      ]
     },
     "execution_count": 18,
     "metadata": {},
     "output_type": "execute_result"
    }
   ],
   "source": [
    "tf.random.set_seed(42)\n",
    "from tensorflow.keras import layers\n",
    "\n",
    "embedding = layers.Embedding(input_dim = 10000,\n",
    "                            output_dim = 128,\n",
    "                            embeddings_initializer = \"uniform\",\n",
    "                            input_length = 15,\n",
    "                            name = \"embedding_1\")\n",
    "embedding"
   ]
  },
  {
   "cell_type": "code",
   "execution_count": 19,
   "metadata": {
    "execution": {
     "iopub.execute_input": "2023-10-04T07:53:42.666249Z",
     "iopub.status.busy": "2023-10-04T07:53:42.665424Z",
     "iopub.status.idle": "2023-10-04T07:53:42.76876Z",
     "shell.execute_reply": "2023-10-04T07:53:42.767677Z",
     "shell.execute_reply.started": "2023-10-04T07:53:42.666206Z"
    }
   },
   "outputs": [
    {
     "name": "stdout",
     "output_type": "stream",
     "text": [
      "original Strange to encaustic cerography portion him till give voice deluge: bYITyf http://t.co/I7ap1MES8M\n",
      "Vectorized: [[2280    5    1    1 3525  158 1108  947 1741  400    1    1    0    0\n",
      "     0]]\n",
      "Vectorized: [[[-0.02353978 -0.02540659  0.04194702 ... -0.04497161 -0.00761765\n",
      "   -0.0481364 ]\n",
      "  [-0.02069368 -0.01137885  0.0274169  ... -0.04205693  0.03579453\n",
      "   -0.01549338]\n",
      "  [ 0.02352029  0.04495715  0.03786638 ...  0.01067902 -0.01072424\n",
      "   -0.02252221]\n",
      "  ...\n",
      "  [ 0.02039267  0.0322989   0.03699717 ...  0.02871038 -0.00801723\n",
      "    0.02172089]\n",
      "  [ 0.02039267  0.0322989   0.03699717 ...  0.02871038 -0.00801723\n",
      "    0.02172089]\n",
      "  [ 0.02039267  0.0322989   0.03699717 ...  0.02871038 -0.00801723\n",
      "    0.02172089]]]\n"
     ]
    }
   ],
   "source": [
    "# example from sample data\n",
    "\n",
    "random_sentence = random.choice(train_sentences)\n",
    "print(f\"original {random_sentence}\")\n",
    "print(f\"Vectorized: {text_vectorizer([random_sentence])}\")\n",
    "print(f\"Vectorized: {embedding(text_vectorizer([random_sentence]))}\")"
   ]
  },
  {
   "cell_type": "markdown",
   "metadata": {},
   "source": [
    "## Creating Our Models"
   ]
  },
  {
   "cell_type": "markdown",
   "metadata": {},
   "source": [
    "### 0. Naive Bayes - Baseline"
   ]
  },
  {
   "cell_type": "code",
   "execution_count": 20,
   "metadata": {
    "execution": {
     "iopub.execute_input": "2023-10-04T07:53:42.771412Z",
     "iopub.status.busy": "2023-10-04T07:53:42.770632Z",
     "iopub.status.idle": "2023-10-04T07:53:43.005504Z",
     "shell.execute_reply": "2023-10-04T07:53:43.00432Z",
     "shell.execute_reply.started": "2023-10-04T07:53:42.771371Z"
    }
   },
   "outputs": [
    {
     "data": {
      "text/plain": [
       "Pipeline(steps=[('tfdf', TfidfVectorizer()), ('clf', MultinomialNB())])"
      ]
     },
     "execution_count": 20,
     "metadata": {},
     "output_type": "execute_result"
    }
   ],
   "source": [
    "from sklearn.feature_extraction.text import TfidfVectorizer\n",
    "from sklearn.naive_bayes import MultinomialNB\n",
    "from sklearn.pipeline import Pipeline\n",
    "\n",
    "# create tokenizartiona and modelling the pipeline\n",
    "model_0 = Pipeline([\n",
    "    \n",
    "    (\"tfdf\", TfidfVectorizer()),\n",
    "    (\"clf\", MultinomialNB())\n",
    "])\n",
    "\n",
    "model_0.fit(train_sentences, train_labels)"
   ]
  },
  {
   "cell_type": "code",
   "execution_count": 21,
   "metadata": {
    "execution": {
     "iopub.execute_input": "2023-10-04T07:53:43.007339Z",
     "iopub.status.busy": "2023-10-04T07:53:43.006952Z",
     "iopub.status.idle": "2023-10-04T07:53:43.034174Z",
     "shell.execute_reply": "2023-10-04T07:53:43.033429Z",
     "shell.execute_reply.started": "2023-10-04T07:53:43.007312Z"
    }
   },
   "outputs": [
    {
     "data": {
      "text/plain": [
       "0.7926509186351706"
      ]
     },
     "execution_count": 21,
     "metadata": {},
     "output_type": "execute_result"
    }
   ],
   "source": [
    "baseline_score = model_0.score(val_sentences, val_labels)\n",
    "baseline_score"
   ]
  },
  {
   "cell_type": "code",
   "execution_count": 22,
   "metadata": {
    "execution": {
     "iopub.execute_input": "2023-10-04T07:53:43.036074Z",
     "iopub.status.busy": "2023-10-04T07:53:43.035472Z",
     "iopub.status.idle": "2023-10-04T07:53:43.062058Z",
     "shell.execute_reply": "2023-10-04T07:53:43.060775Z",
     "shell.execute_reply.started": "2023-10-04T07:53:43.036045Z"
    }
   },
   "outputs": [
    {
     "data": {
      "text/plain": [
       "array([1, 1, 1, 0, 0, 1, 1, 1, 1, 0, 0, 1, 0, 0, 0, 0, 0, 0, 0, 1],\n",
       "      dtype=int64)"
      ]
     },
     "execution_count": 22,
     "metadata": {},
     "output_type": "execute_result"
    }
   ],
   "source": [
    "baseline_preds = model_0.predict(val_sentences)\n",
    "baseline_preds[:20]"
   ]
  },
  {
   "cell_type": "markdown",
   "metadata": {},
   "source": [
    "#### Creating Evaluation functions for our future use"
   ]
  },
  {
   "cell_type": "code",
   "execution_count": 23,
   "metadata": {
    "execution": {
     "iopub.execute_input": "2023-10-04T07:53:43.06594Z",
     "iopub.status.busy": "2023-10-04T07:53:43.065531Z",
     "iopub.status.idle": "2023-10-04T07:53:43.072578Z",
     "shell.execute_reply": "2023-10-04T07:53:43.071488Z",
     "shell.execute_reply.started": "2023-10-04T07:53:43.065908Z"
    }
   },
   "outputs": [],
   "source": [
    "from sklearn.metrics import accuracy_score, precision_recall_fscore_support\n",
    "\n",
    "def calculate_results(y_true, y_pred):\n",
    "    \n",
    "    # accuracy\n",
    "    model_accuracy = accuracy_score(y_true, y_pred) * 100\n",
    "    \n",
    "    # model_precision,f1_score, recall using weighted average\n",
    "    model_precision, model_recall, model_f1, _ = precision_recall_fscore_support(y_true, y_pred, average=\"weighted\")\n",
    "    \n",
    "    model_results = {\n",
    "        \n",
    "        \"accurracy\": model_accuracy,\n",
    "        \"precision\": model_precision,\n",
    "        \"recall\": model_recall,\n",
    "        \"f1\": model_f1\n",
    "    }\n",
    "    \n",
    "    return model_results"
   ]
  },
  {
   "cell_type": "code",
   "execution_count": 24,
   "metadata": {
    "execution": {
     "iopub.execute_input": "2023-10-04T07:53:43.075026Z",
     "iopub.status.busy": "2023-10-04T07:53:43.074021Z",
     "iopub.status.idle": "2023-10-04T07:53:43.092492Z",
     "shell.execute_reply": "2023-10-04T07:53:43.091378Z",
     "shell.execute_reply.started": "2023-10-04T07:53:43.074983Z"
    }
   },
   "outputs": [
    {
     "data": {
      "text/plain": [
       "{'accurracy': 79.26509186351706,\n",
       " 'precision': 0.8111390004213173,\n",
       " 'recall': 0.7926509186351706,\n",
       " 'f1': 0.7862189758049549}"
      ]
     },
     "execution_count": 24,
     "metadata": {},
     "output_type": "execute_result"
    }
   ],
   "source": [
    "baseline_results = calculate_results(y_true = val_labels,\n",
    "                                     y_pred = baseline_preds)\n",
    "baseline_results"
   ]
  },
  {
   "cell_type": "markdown",
   "metadata": {},
   "source": [
    "### Model 1 - Simple Dense"
   ]
  },
  {
   "cell_type": "code",
   "execution_count": 25,
   "metadata": {
    "execution": {
     "iopub.execute_input": "2023-10-04T07:53:43.094868Z",
     "iopub.status.busy": "2023-10-04T07:53:43.094139Z",
     "iopub.status.idle": "2023-10-04T07:53:44.425891Z",
     "shell.execute_reply": "2023-10-04T07:53:44.424722Z",
     "shell.execute_reply.started": "2023-10-04T07:53:43.094823Z"
    }
   },
   "outputs": [
    {
     "name": "stderr",
     "output_type": "stream",
     "text": [
      "'wget' is not recognized as an internal or external command,\n",
      "operable program or batch file.\n"
     ]
    }
   ],
   "source": [
    "# importing helper functions\n",
    "!wget https://raw.githubusercontent.com/mrdbourke/tensorflow-deep-learning/main/extras/helper_functions.py"
   ]
  },
  {
   "cell_type": "code",
   "execution_count": 26,
   "metadata": {
    "execution": {
     "iopub.execute_input": "2023-10-04T07:53:44.429199Z",
     "iopub.status.busy": "2023-10-04T07:53:44.427843Z",
     "iopub.status.idle": "2023-10-04T07:53:44.441124Z",
     "shell.execute_reply": "2023-10-04T07:53:44.439952Z",
     "shell.execute_reply.started": "2023-10-04T07:53:44.429153Z"
    }
   },
   "outputs": [],
   "source": [
    "from helper_functions import unzip_data, create_tensorboard_callback, plot_loss_curves, compare_historys"
   ]
  },
  {
   "cell_type": "code",
   "execution_count": 27,
   "metadata": {
    "execution": {
     "iopub.execute_input": "2023-10-04T07:53:44.44384Z",
     "iopub.status.busy": "2023-10-04T07:53:44.442727Z",
     "iopub.status.idle": "2023-10-04T07:53:44.449714Z",
     "shell.execute_reply": "2023-10-04T07:53:44.448882Z",
     "shell.execute_reply.started": "2023-10-04T07:53:44.443778Z"
    }
   },
   "outputs": [],
   "source": [
    "# create directory to save log \n",
    "SAVE_DIR = \"model_logs\""
   ]
  },
  {
   "cell_type": "code",
   "execution_count": 28,
   "metadata": {
    "execution": {
     "iopub.execute_input": "2023-10-04T07:53:44.459163Z",
     "iopub.status.busy": "2023-10-04T07:53:44.45874Z",
     "iopub.status.idle": "2023-10-04T07:53:44.558717Z",
     "shell.execute_reply": "2023-10-04T07:53:44.557315Z",
     "shell.execute_reply.started": "2023-10-04T07:53:44.45913Z"
    }
   },
   "outputs": [],
   "source": [
    "# building the model \n",
    "inputs = layers.Input(shape=(1,), dtype = \"string\")\n",
    "x = text_vectorizer(inputs)\n",
    "x = embedding(x)\n",
    "x = layers.GlobalAveragePooling1D()(x)\n",
    "outputs = layers.Dense(1, activation = \"sigmoid\")(x)\n",
    "model_1 = tf.keras.Model(inputs, outputs, name = \"model_1_choice\")"
   ]
  },
  {
   "cell_type": "code",
   "execution_count": 29,
   "metadata": {
    "execution": {
     "iopub.execute_input": "2023-10-04T07:53:44.560708Z",
     "iopub.status.busy": "2023-10-04T07:53:44.560271Z",
     "iopub.status.idle": "2023-10-04T07:53:44.589144Z",
     "shell.execute_reply": "2023-10-04T07:53:44.587896Z",
     "shell.execute_reply.started": "2023-10-04T07:53:44.560653Z"
    }
   },
   "outputs": [],
   "source": [
    "# compile the model\n",
    "model_1.compile(loss = \"binary_crossentropy\",\n",
    "                optimizer = tf.keras.optimizers.Adam(),\n",
    "                metrics = [\"accuracy\"])"
   ]
  },
  {
   "cell_type": "code",
   "execution_count": 30,
   "metadata": {
    "execution": {
     "iopub.execute_input": "2023-10-04T07:53:44.59144Z",
     "iopub.status.busy": "2023-10-04T07:53:44.591024Z",
     "iopub.status.idle": "2023-10-04T07:53:44.617159Z",
     "shell.execute_reply": "2023-10-04T07:53:44.616352Z",
     "shell.execute_reply.started": "2023-10-04T07:53:44.591397Z"
    }
   },
   "outputs": [
    {
     "name": "stdout",
     "output_type": "stream",
     "text": [
      "Model: \"model_1_choice\"\n",
      "_________________________________________________________________\n",
      " Layer (type)                Output Shape              Param #   \n",
      "=================================================================\n",
      " input_1 (InputLayer)        [(None, 1)]               0         \n",
      "                                                                 \n",
      " text_vectorization (TextVec  (None, 15)               0         \n",
      " torization)                                                     \n",
      "                                                                 \n",
      " embedding_1 (Embedding)     (None, 15, 128)           1280000   \n",
      "                                                                 \n",
      " global_average_pooling1d (G  (None, 128)              0         \n",
      " lobalAveragePooling1D)                                          \n",
      "                                                                 \n",
      " dense (Dense)               (None, 1)                 129       \n",
      "                                                                 \n",
      "=================================================================\n",
      "Total params: 1,280,129\n",
      "Trainable params: 1,280,129\n",
      "Non-trainable params: 0\n",
      "_________________________________________________________________\n"
     ]
    }
   ],
   "source": [
    "model_1.summary()"
   ]
  },
  {
   "cell_type": "code",
   "execution_count": 31,
   "metadata": {
    "execution": {
     "iopub.execute_input": "2023-10-04T07:53:44.619287Z",
     "iopub.status.busy": "2023-10-04T07:53:44.61881Z",
     "iopub.status.idle": "2023-10-04T07:54:03.43306Z",
     "shell.execute_reply": "2023-10-04T07:54:03.432045Z",
     "shell.execute_reply.started": "2023-10-04T07:53:44.619166Z"
    }
   },
   "outputs": [
    {
     "name": "stdout",
     "output_type": "stream",
     "text": [
      "Saving TensorBoard log files to: model_logs/simple_dense_model/20231117-155355\n",
      "Epoch 1/5\n",
      "215/215 [==============================] - 5s 18ms/step - loss: 0.6114 - accuracy: 0.6906 - val_loss: 0.5367 - val_accuracy: 0.7585\n",
      "Epoch 2/5\n",
      "215/215 [==============================] - 4s 18ms/step - loss: 0.4426 - accuracy: 0.8183 - val_loss: 0.4688 - val_accuracy: 0.7848\n",
      "Epoch 3/5\n",
      "215/215 [==============================] - 4s 18ms/step - loss: 0.3475 - accuracy: 0.8600 - val_loss: 0.4584 - val_accuracy: 0.7900\n",
      "Epoch 4/5\n",
      "215/215 [==============================] - 4s 19ms/step - loss: 0.2858 - accuracy: 0.8910 - val_loss: 0.4633 - val_accuracy: 0.7887\n",
      "Epoch 5/5\n",
      "215/215 [==============================] - 4s 18ms/step - loss: 0.2389 - accuracy: 0.9118 - val_loss: 0.4756 - val_accuracy: 0.7861\n"
     ]
    }
   ],
   "source": [
    "# fit the model \n",
    "model_1_history = model_1.fit(train_sentences,\n",
    "                              train_labels,\n",
    "                              epochs = 5,\n",
    "                              validation_data = (val_sentences, val_labels),\n",
    "                              callbacks = [create_tensorboard_callback(dir_name=SAVE_DIR, \n",
    "                                                                     experiment_name=\"simple_dense_model\")])"
   ]
  },
  {
   "cell_type": "code",
   "execution_count": 32,
   "metadata": {
    "execution": {
     "iopub.execute_input": "2023-10-04T07:54:03.435519Z",
     "iopub.status.busy": "2023-10-04T07:54:03.434558Z",
     "iopub.status.idle": "2023-10-04T07:54:03.587052Z",
     "shell.execute_reply": "2023-10-04T07:54:03.585892Z",
     "shell.execute_reply.started": "2023-10-04T07:54:03.435472Z"
    }
   },
   "outputs": [
    {
     "name": "stdout",
     "output_type": "stream",
     "text": [
      "24/24 [==============================] - 0s 3ms/step - loss: 0.4756 - accuracy: 0.7861\n"
     ]
    },
    {
     "data": {
      "text/plain": [
       "[0.47559085488319397, 0.7860892415046692]"
      ]
     },
     "execution_count": 32,
     "metadata": {},
     "output_type": "execute_result"
    }
   ],
   "source": [
    "model_1.evaluate(val_sentences, val_labels)"
   ]
  },
  {
   "cell_type": "code",
   "execution_count": 33,
   "metadata": {
    "execution": {
     "iopub.execute_input": "2023-10-04T07:54:03.589044Z",
     "iopub.status.busy": "2023-10-04T07:54:03.588573Z",
     "iopub.status.idle": "2023-10-04T07:54:03.604905Z",
     "shell.execute_reply": "2023-10-04T07:54:03.603473Z",
     "shell.execute_reply.started": "2023-10-04T07:54:03.589Z"
    }
   },
   "outputs": [
    {
     "data": {
      "text/plain": [
       "[<tf.Variable 'embedding_1/embeddings:0' shape=(10000, 128) dtype=float32, numpy=\n",
       " array([[ 0.04202681,  0.05362942,  0.01837745, ...,  0.05093698,\n",
       "         -0.03045354,  0.00017631],\n",
       "        [ 0.02576663,  0.04577554,  0.03600794, ...,  0.01376445,\n",
       "         -0.01085515, -0.02502564],\n",
       "        [ 0.06445485,  0.01938205,  0.03369606, ...,  0.01884435,\n",
       "         -0.02767265, -0.04900605],\n",
       "        ...,\n",
       "        [ 0.00507473,  0.04443571,  0.04254723, ..., -0.0491902 ,\n",
       "          0.01406678,  0.03541702],\n",
       "        [ 0.08506044,  0.07287966,  0.00643138, ..., -0.00220035,\n",
       "         -0.08257731, -0.00807494],\n",
       "        [ 0.04438497,  0.11088195, -0.07216326, ...,  0.02476973,\n",
       "         -0.01949378, -0.02027474]], dtype=float32)>]"
      ]
     },
     "execution_count": 33,
     "metadata": {},
     "output_type": "execute_result"
    }
   ],
   "source": [
    "embedding.weights"
   ]
  },
  {
   "cell_type": "code",
   "execution_count": 34,
   "metadata": {
    "execution": {
     "iopub.execute_input": "2023-10-04T07:54:03.607114Z",
     "iopub.status.busy": "2023-10-04T07:54:03.606535Z",
     "iopub.status.idle": "2023-10-04T07:54:03.620441Z",
     "shell.execute_reply": "2023-10-04T07:54:03.619061Z",
     "shell.execute_reply.started": "2023-10-04T07:54:03.607079Z"
    }
   },
   "outputs": [
    {
     "name": "stdout",
     "output_type": "stream",
     "text": [
      "(10000, 128)\n"
     ]
    }
   ],
   "source": [
    "embed_weights = model_1.get_layer(\"embedding_1\").get_weights()[0]\n",
    "print(embed_weights.shape)"
   ]
  },
  {
   "cell_type": "code",
   "execution_count": 35,
   "metadata": {
    "execution": {
     "iopub.execute_input": "2023-10-04T07:54:03.622284Z",
     "iopub.status.busy": "2023-10-04T07:54:03.621944Z",
     "iopub.status.idle": "2023-10-04T07:54:03.879403Z",
     "shell.execute_reply": "2023-10-04T07:54:03.878273Z",
     "shell.execute_reply.started": "2023-10-04T07:54:03.622255Z"
    }
   },
   "outputs": [
    {
     "name": "stdout",
     "output_type": "stream",
     "text": [
      "24/24 [==============================] - 0s 2ms/step\n"
     ]
    },
    {
     "data": {
      "text/plain": [
       "<tf.Tensor: shape=(10,), dtype=float32, numpy=array([0., 1., 1., 0., 0., 1., 1., 1., 1., 0.], dtype=float32)>"
      ]
     },
     "execution_count": 35,
     "metadata": {},
     "output_type": "execute_result"
    }
   ],
   "source": [
    "# make predictions\n",
    "model_1_preds = tf.squeeze(tf.round(model_1.predict(val_sentences)))\n",
    "model_1_preds[:10]"
   ]
  },
  {
   "cell_type": "code",
   "execution_count": 36,
   "metadata": {
    "execution": {
     "iopub.execute_input": "2023-10-04T07:54:03.881405Z",
     "iopub.status.busy": "2023-10-04T07:54:03.880617Z",
     "iopub.status.idle": "2023-10-04T07:54:03.893596Z",
     "shell.execute_reply": "2023-10-04T07:54:03.892105Z",
     "shell.execute_reply.started": "2023-10-04T07:54:03.881371Z"
    }
   },
   "outputs": [
    {
     "data": {
      "text/plain": [
       "{'accurracy': 78.60892388451444,\n",
       " 'precision': 0.7903277546022673,\n",
       " 'recall': 0.7860892388451444,\n",
       " 'f1': 0.7832971347503846}"
      ]
     },
     "execution_count": 36,
     "metadata": {},
     "output_type": "execute_result"
    }
   ],
   "source": [
    "# model_1 metrics \n",
    "model_1_results = calculate_results(y_true = val_labels,\n",
    "                                    y_pred = model_1_preds)\n",
    "\n",
    "model_1_results"
   ]
  },
  {
   "cell_type": "code",
   "execution_count": 37,
   "metadata": {
    "execution": {
     "iopub.execute_input": "2023-10-04T07:54:03.896318Z",
     "iopub.status.busy": "2023-10-04T07:54:03.895222Z",
     "iopub.status.idle": "2023-10-04T07:54:03.908116Z",
     "shell.execute_reply": "2023-10-04T07:54:03.906769Z",
     "shell.execute_reply.started": "2023-10-04T07:54:03.896281Z"
    }
   },
   "outputs": [],
   "source": [
    "# comparing results of baseline with new models \n",
    "\n",
    "def compare_with_baseline(baseline_results, new_model_results):\n",
    "    for key, value in baseline_results.items():\n",
    "        print(f\"Baseline {key}: {value:.2f}, New {key}: {new_model_results[key]:.2f}, Difference: {new_model_results[key] - value:.2f}\")\n"
   ]
  },
  {
   "cell_type": "code",
   "execution_count": 38,
   "metadata": {
    "execution": {
     "iopub.execute_input": "2023-10-04T07:54:03.909968Z",
     "iopub.status.busy": "2023-10-04T07:54:03.909528Z",
     "iopub.status.idle": "2023-10-04T07:54:03.924627Z",
     "shell.execute_reply": "2023-10-04T07:54:03.923363Z",
     "shell.execute_reply.started": "2023-10-04T07:54:03.909929Z"
    }
   },
   "outputs": [
    {
     "name": "stdout",
     "output_type": "stream",
     "text": [
      "Baseline accurracy: 79.27, New accurracy: 78.61, Difference: -0.66\n",
      "Baseline precision: 0.81, New precision: 0.79, Difference: -0.02\n",
      "Baseline recall: 0.79, New recall: 0.79, Difference: -0.01\n",
      "Baseline f1: 0.79, New f1: 0.78, Difference: -0.00\n"
     ]
    }
   ],
   "source": [
    "compare_with_baseline(baseline_results=baseline_results, \n",
    "                                new_model_results=model_1_results)"
   ]
  },
  {
   "cell_type": "markdown",
   "metadata": {},
   "source": [
    "## Model 2 - LSTM "
   ]
  },
  {
   "cell_type": "code",
   "execution_count": 39,
   "metadata": {
    "execution": {
     "iopub.execute_input": "2023-10-04T07:54:03.926749Z",
     "iopub.status.busy": "2023-10-04T07:54:03.926274Z",
     "iopub.status.idle": "2023-10-04T07:54:04.350161Z",
     "shell.execute_reply": "2023-10-04T07:54:04.348899Z",
     "shell.execute_reply.started": "2023-10-04T07:54:03.926715Z"
    }
   },
   "outputs": [
    {
     "name": "stdout",
     "output_type": "stream",
     "text": [
      "(None, 15, 128)\n",
      "(None, 64)\n"
     ]
    }
   ],
   "source": [
    "tf.random.set_seed(42)\n",
    "\n",
    "model_2_embedding = layers.Embedding(input_dim = 10000,\n",
    "                                     output_dim = 128,\n",
    "                                     embeddings_initializer = \"uniform\",\n",
    "                                     input_length = 15,\n",
    "                                     name = \"embedding_2\")\n",
    "\n",
    "# LSTM Model\n",
    "inputs = layers.Input(shape = (1,), dtype = \"string\")\n",
    "x = text_vectorizer(inputs)\n",
    "x = model_2_embedding(x)\n",
    "print(x.shape)\n",
    "x = layers.LSTM(64)(x)\n",
    "print(x.shape)\n",
    "outputs = layers.Dense(1, activation = \"sigmoid\")(x)\n",
    "model_2 = tf.keras.Model(inputs, outputs , name = \"model_2_LSTM\")"
   ]
  },
  {
   "cell_type": "code",
   "execution_count": 40,
   "metadata": {
    "execution": {
     "iopub.execute_input": "2023-10-04T07:54:04.353744Z",
     "iopub.status.busy": "2023-10-04T07:54:04.352473Z",
     "iopub.status.idle": "2023-10-04T07:54:04.392149Z",
     "shell.execute_reply": "2023-10-04T07:54:04.391064Z",
     "shell.execute_reply.started": "2023-10-04T07:54:04.353707Z"
    }
   },
   "outputs": [
    {
     "name": "stdout",
     "output_type": "stream",
     "text": [
      "Model: \"model_2_LSTM\"\n",
      "_________________________________________________________________\n",
      " Layer (type)                Output Shape              Param #   \n",
      "=================================================================\n",
      " input_2 (InputLayer)        [(None, 1)]               0         \n",
      "                                                                 \n",
      " text_vectorization (TextVec  (None, 15)               0         \n",
      " torization)                                                     \n",
      "                                                                 \n",
      " embedding_2 (Embedding)     (None, 15, 128)           1280000   \n",
      "                                                                 \n",
      " lstm (LSTM)                 (None, 64)                49408     \n",
      "                                                                 \n",
      " dense_1 (Dense)             (None, 1)                 65        \n",
      "                                                                 \n",
      "=================================================================\n",
      "Total params: 1,329,473\n",
      "Trainable params: 1,329,473\n",
      "Non-trainable params: 0\n",
      "_________________________________________________________________\n"
     ]
    }
   ],
   "source": [
    "# compile the model \n",
    "\n",
    "model_2.compile(loss = \"binary_crossentropy\",\n",
    "                optimizer = tf.keras.optimizers.Adam(),\n",
    "                metrics = [\"accuracy\"])\n",
    "\n",
    "model_2.summary()"
   ]
  },
  {
   "cell_type": "code",
   "execution_count": 41,
   "metadata": {
    "execution": {
     "iopub.execute_input": "2023-10-04T07:54:04.393942Z",
     "iopub.status.busy": "2023-10-04T07:54:04.393607Z",
     "iopub.status.idle": "2023-10-04T07:54:33.426532Z",
     "shell.execute_reply": "2023-10-04T07:54:33.424893Z",
     "shell.execute_reply.started": "2023-10-04T07:54:04.393915Z"
    }
   },
   "outputs": [
    {
     "name": "stdout",
     "output_type": "stream",
     "text": [
      "Saving TensorBoard log files to: model_logs/LSTM/20231117-155417\n",
      "Epoch 1/5\n",
      "215/215 [==============================] - 8s 27ms/step - loss: 0.5100 - accuracy: 0.7447 - val_loss: 0.4567 - val_accuracy: 0.7782\n",
      "Epoch 2/5\n",
      "215/215 [==============================] - 5s 25ms/step - loss: 0.3165 - accuracy: 0.8723 - val_loss: 0.5160 - val_accuracy: 0.7756\n",
      "Epoch 3/5\n",
      "215/215 [==============================] - 5s 25ms/step - loss: 0.2204 - accuracy: 0.9168 - val_loss: 0.5875 - val_accuracy: 0.7638\n",
      "Epoch 4/5\n",
      "215/215 [==============================] - 5s 25ms/step - loss: 0.1575 - accuracy: 0.9461 - val_loss: 0.6154 - val_accuracy: 0.7782\n",
      "Epoch 5/5\n",
      "215/215 [==============================] - 6s 29ms/step - loss: 0.1105 - accuracy: 0.9587 - val_loss: 0.8971 - val_accuracy: 0.7585\n"
     ]
    }
   ],
   "source": [
    "# fit the model \n",
    "model_2_history = model_2.fit(train_sentences,\n",
    "                              train_labels,\n",
    "                              epochs = 5,\n",
    "                              validation_data = (val_sentences, val_labels),\n",
    "                              callbacks = [create_tensorboard_callback(SAVE_DIR, \n",
    "                                                                     \"LSTM\")])"
   ]
  },
  {
   "cell_type": "code",
   "execution_count": 42,
   "metadata": {
    "execution": {
     "iopub.execute_input": "2023-10-04T07:54:33.428054Z",
     "iopub.status.busy": "2023-10-04T07:54:33.427734Z",
     "iopub.status.idle": "2023-10-04T07:54:34.066149Z",
     "shell.execute_reply": "2023-10-04T07:54:34.064945Z",
     "shell.execute_reply.started": "2023-10-04T07:54:33.428028Z"
    }
   },
   "outputs": [
    {
     "name": "stdout",
     "output_type": "stream",
     "text": [
      "24/24 [==============================] - 1s 6ms/step\n"
     ]
    },
    {
     "data": {
      "text/plain": [
       "((762, 1),\n",
       " array([[0.0105298 ],\n",
       "        [0.7674439 ],\n",
       "        [0.9993588 ],\n",
       "        [0.05838431],\n",
       "        [0.00409165],\n",
       "        [0.99941593],\n",
       "        [0.9435451 ],\n",
       "        [0.9996584 ],\n",
       "        [0.99940574],\n",
       "        [0.24686882]], dtype=float32))"
      ]
     },
     "execution_count": 42,
     "metadata": {},
     "output_type": "execute_result"
    }
   ],
   "source": [
    "model_2_pred_probs = model_2.predict(val_sentences)\n",
    "model_2_pred_probs.shape, model_2_pred_probs[:10]\n"
   ]
  },
  {
   "cell_type": "code",
   "execution_count": 43,
   "metadata": {
    "execution": {
     "iopub.execute_input": "2023-10-04T07:54:34.068111Z",
     "iopub.status.busy": "2023-10-04T07:54:34.067709Z",
     "iopub.status.idle": "2023-10-04T07:54:34.080173Z",
     "shell.execute_reply": "2023-10-04T07:54:34.079315Z",
     "shell.execute_reply.started": "2023-10-04T07:54:34.068076Z"
    }
   },
   "outputs": [
    {
     "data": {
      "text/plain": [
       "<tf.Tensor: shape=(10,), dtype=float32, numpy=array([0., 1., 1., 0., 0., 1., 1., 1., 1., 0.], dtype=float32)>"
      ]
     },
     "execution_count": 43,
     "metadata": {},
     "output_type": "execute_result"
    }
   ],
   "source": [
    "model_2_preds = tf.squeeze(tf.round(model_2_pred_probs))\n",
    "model_2_preds[:10]"
   ]
  },
  {
   "cell_type": "code",
   "execution_count": 44,
   "metadata": {
    "execution": {
     "iopub.execute_input": "2023-10-04T07:54:34.082526Z",
     "iopub.status.busy": "2023-10-04T07:54:34.081642Z",
     "iopub.status.idle": "2023-10-04T07:54:34.093501Z",
     "shell.execute_reply": "2023-10-04T07:54:34.092296Z",
     "shell.execute_reply.started": "2023-10-04T07:54:34.08248Z"
    }
   },
   "outputs": [
    {
     "data": {
      "text/plain": [
       "{'accurracy': 75.8530183727034,\n",
       " 'precision': 0.7584850115306213,\n",
       " 'recall': 0.7585301837270341,\n",
       " 'f1': 0.7573131746360092}"
      ]
     },
     "execution_count": 44,
     "metadata": {},
     "output_type": "execute_result"
    }
   ],
   "source": [
    "model_2_results = calculate_results(y_true=val_labels,\n",
    "                                    y_pred=model_2_preds)\n",
    "model_2_results"
   ]
  },
  {
   "cell_type": "code",
   "execution_count": 45,
   "metadata": {
    "execution": {
     "iopub.execute_input": "2023-10-04T07:54:34.095532Z",
     "iopub.status.busy": "2023-10-04T07:54:34.095126Z",
     "iopub.status.idle": "2023-10-04T07:54:34.101955Z",
     "shell.execute_reply": "2023-10-04T07:54:34.100734Z",
     "shell.execute_reply.started": "2023-10-04T07:54:34.095494Z"
    }
   },
   "outputs": [
    {
     "name": "stdout",
     "output_type": "stream",
     "text": [
      "Baseline accurracy: 79.27, New accurracy: 75.85, Difference: -3.41\n",
      "Baseline precision: 0.81, New precision: 0.76, Difference: -0.05\n",
      "Baseline recall: 0.79, New recall: 0.76, Difference: -0.03\n",
      "Baseline f1: 0.79, New f1: 0.76, Difference: -0.03\n"
     ]
    }
   ],
   "source": [
    "compare_with_baseline(baseline_results, model_2_results)"
   ]
  },
  {
   "cell_type": "markdown",
   "metadata": {},
   "source": [
    "### Model 3 -- GRU"
   ]
  },
  {
   "cell_type": "code",
   "execution_count": 46,
   "metadata": {
    "execution": {
     "iopub.execute_input": "2023-10-04T07:54:34.10403Z",
     "iopub.status.busy": "2023-10-04T07:54:34.103704Z",
     "iopub.status.idle": "2023-10-04T07:54:34.414171Z",
     "shell.execute_reply": "2023-10-04T07:54:34.413107Z",
     "shell.execute_reply.started": "2023-10-04T07:54:34.104003Z"
    }
   },
   "outputs": [],
   "source": [
    "model_3_embedding = layers.Embedding(input_dim = 10000,\n",
    "                                     output_dim = 128,\n",
    "                                     embeddings_initializer = \"uniform\",\n",
    "                                     input_length = 15,\n",
    "                                     name = \"embedding_3\")\n",
    "\n",
    "# model \n",
    "inputs = layers.Input(shape = (1,), dtype = 'string')\n",
    "x = text_vectorizer(inputs)\n",
    "x = model_3_embedding(x)\n",
    "x = layers.GRU(64)(x)\n",
    "outputs = layers.Dense(1, activation = \"sigmoid\")(x)\n",
    "\n",
    "model_3 = tf.keras.Model(inputs, outputs, name = \"model_3_GRU\")"
   ]
  },
  {
   "cell_type": "code",
   "execution_count": 47,
   "metadata": {
    "execution": {
     "iopub.execute_input": "2023-10-04T07:54:34.415678Z",
     "iopub.status.busy": "2023-10-04T07:54:34.415376Z",
     "iopub.status.idle": "2023-10-04T07:54:34.429954Z",
     "shell.execute_reply": "2023-10-04T07:54:34.42877Z",
     "shell.execute_reply.started": "2023-10-04T07:54:34.415653Z"
    }
   },
   "outputs": [],
   "source": [
    "model_3.compile( loss = \"binary_crossentropy\",\n",
    "                 optimizer = tf.keras.optimizers.Adam(),\n",
    "                 metrics = [\"accuracy\"])"
   ]
  },
  {
   "cell_type": "code",
   "execution_count": 48,
   "metadata": {
    "execution": {
     "iopub.execute_input": "2023-10-04T07:54:34.432548Z",
     "iopub.status.busy": "2023-10-04T07:54:34.431957Z",
     "iopub.status.idle": "2023-10-04T07:54:34.456483Z",
     "shell.execute_reply": "2023-10-04T07:54:34.455755Z",
     "shell.execute_reply.started": "2023-10-04T07:54:34.432514Z"
    }
   },
   "outputs": [
    {
     "name": "stdout",
     "output_type": "stream",
     "text": [
      "Model: \"model_3_GRU\"\n",
      "_________________________________________________________________\n",
      " Layer (type)                Output Shape              Param #   \n",
      "=================================================================\n",
      " input_3 (InputLayer)        [(None, 1)]               0         \n",
      "                                                                 \n",
      " text_vectorization (TextVec  (None, 15)               0         \n",
      " torization)                                                     \n",
      "                                                                 \n",
      " embedding_3 (Embedding)     (None, 15, 128)           1280000   \n",
      "                                                                 \n",
      " gru (GRU)                   (None, 64)                37248     \n",
      "                                                                 \n",
      " dense_2 (Dense)             (None, 1)                 65        \n",
      "                                                                 \n",
      "=================================================================\n",
      "Total params: 1,317,313\n",
      "Trainable params: 1,317,313\n",
      "Non-trainable params: 0\n",
      "_________________________________________________________________\n"
     ]
    }
   ],
   "source": [
    "model_3.summary()"
   ]
  },
  {
   "cell_type": "code",
   "execution_count": 49,
   "metadata": {
    "execution": {
     "iopub.execute_input": "2023-10-04T07:54:34.457755Z",
     "iopub.status.busy": "2023-10-04T07:54:34.457518Z",
     "iopub.status.idle": "2023-10-04T07:55:17.649425Z",
     "shell.execute_reply": "2023-10-04T07:55:17.648311Z",
     "shell.execute_reply.started": "2023-10-04T07:54:34.457732Z"
    }
   },
   "outputs": [
    {
     "name": "stdout",
     "output_type": "stream",
     "text": [
      "Saving TensorBoard log files to: model_logs/GRU/20231117-155450\n",
      "Epoch 1/5\n",
      "215/215 [==============================] - 8s 25ms/step - loss: 0.5281 - accuracy: 0.7243 - val_loss: 0.4568 - val_accuracy: 0.7795\n",
      "Epoch 2/5\n",
      "215/215 [==============================] - 5s 24ms/step - loss: 0.3189 - accuracy: 0.8683 - val_loss: 0.4882 - val_accuracy: 0.7782\n",
      "Epoch 3/5\n",
      "215/215 [==============================] - 5s 25ms/step - loss: 0.2158 - accuracy: 0.9174 - val_loss: 0.5595 - val_accuracy: 0.7743\n",
      "Epoch 4/5\n",
      "215/215 [==============================] - 5s 22ms/step - loss: 0.1516 - accuracy: 0.9466 - val_loss: 0.6341 - val_accuracy: 0.7808\n",
      "Epoch 5/5\n",
      "215/215 [==============================] - 5s 25ms/step - loss: 0.1155 - accuracy: 0.9597 - val_loss: 0.6227 - val_accuracy: 0.7651\n"
     ]
    }
   ],
   "source": [
    "model_3_history = model_3.fit(train_sentences,\n",
    "                              train_labels, \n",
    "                              epochs = 5,\n",
    "                              validation_data = (val_sentences, val_labels),\n",
    "                              callbacks=[create_tensorboard_callback(SAVE_DIR, \"GRU\")])"
   ]
  },
  {
   "cell_type": "code",
   "execution_count": 50,
   "metadata": {
    "execution": {
     "iopub.execute_input": "2023-10-04T07:55:17.65153Z",
     "iopub.status.busy": "2023-10-04T07:55:17.651059Z",
     "iopub.status.idle": "2023-10-04T07:55:18.574044Z",
     "shell.execute_reply": "2023-10-04T07:55:18.57297Z",
     "shell.execute_reply.started": "2023-10-04T07:55:17.651488Z"
    }
   },
   "outputs": [
    {
     "name": "stdout",
     "output_type": "stream",
     "text": [
      "24/24 [==============================] - 1s 3ms/step\n"
     ]
    },
    {
     "data": {
      "text/plain": [
       "((762, 1),\n",
       " array([[0.3242788 ],\n",
       "        [0.8998828 ],\n",
       "        [0.9969974 ],\n",
       "        [0.15762188],\n",
       "        [0.00844102],\n",
       "        [0.9924871 ],\n",
       "        [0.78700763],\n",
       "        [0.99810904],\n",
       "        [0.99688166],\n",
       "        [0.35115686]], dtype=float32))"
      ]
     },
     "execution_count": 50,
     "metadata": {},
     "output_type": "execute_result"
    }
   ],
   "source": [
    "model_3_pred_probs = model_3.predict(val_sentences)\n",
    "model_3_pred_probs.shape, model_3_pred_probs[:10]"
   ]
  },
  {
   "cell_type": "code",
   "execution_count": 51,
   "metadata": {
    "execution": {
     "iopub.execute_input": "2023-10-04T07:55:18.575698Z",
     "iopub.status.busy": "2023-10-04T07:55:18.575141Z",
     "iopub.status.idle": "2023-10-04T07:55:18.586899Z",
     "shell.execute_reply": "2023-10-04T07:55:18.585897Z",
     "shell.execute_reply.started": "2023-10-04T07:55:18.575661Z"
    }
   },
   "outputs": [
    {
     "data": {
      "text/plain": [
       "<tf.Tensor: shape=(10,), dtype=float32, numpy=array([0., 1., 1., 0., 0., 1., 1., 1., 1., 0.], dtype=float32)>"
      ]
     },
     "execution_count": 51,
     "metadata": {},
     "output_type": "execute_result"
    }
   ],
   "source": [
    "model_3_preds = tf.squeeze(tf.round(model_3_pred_probs))\n",
    "model_3_preds[:10]"
   ]
  },
  {
   "cell_type": "code",
   "execution_count": 52,
   "metadata": {
    "execution": {
     "iopub.execute_input": "2023-10-04T07:55:18.589359Z",
     "iopub.status.busy": "2023-10-04T07:55:18.588164Z",
     "iopub.status.idle": "2023-10-04T07:55:18.603087Z",
     "shell.execute_reply": "2023-10-04T07:55:18.601656Z",
     "shell.execute_reply.started": "2023-10-04T07:55:18.589296Z"
    }
   },
   "outputs": [
    {
     "data": {
      "text/plain": [
       "{'accurracy': 76.50918635170603,\n",
       " 'precision': 0.7650786674444272,\n",
       " 'recall': 0.7650918635170604,\n",
       " 'f1': 0.7639596899608797}"
      ]
     },
     "execution_count": 52,
     "metadata": {},
     "output_type": "execute_result"
    }
   ],
   "source": [
    "model_3_results = calculate_results(y_true=val_labels, \n",
    "                                    y_pred=model_3_preds)\n",
    "model_3_results"
   ]
  },
  {
   "cell_type": "code",
   "execution_count": 53,
   "metadata": {
    "execution": {
     "iopub.execute_input": "2023-10-04T07:55:18.604848Z",
     "iopub.status.busy": "2023-10-04T07:55:18.604501Z",
     "iopub.status.idle": "2023-10-04T07:55:18.614073Z",
     "shell.execute_reply": "2023-10-04T07:55:18.612879Z",
     "shell.execute_reply.started": "2023-10-04T07:55:18.604782Z"
    }
   },
   "outputs": [
    {
     "name": "stdout",
     "output_type": "stream",
     "text": [
      "Baseline accurracy: 79.27, New accurracy: 76.51, Difference: -2.76\n",
      "Baseline precision: 0.81, New precision: 0.77, Difference: -0.05\n",
      "Baseline recall: 0.79, New recall: 0.77, Difference: -0.03\n",
      "Baseline f1: 0.79, New f1: 0.76, Difference: -0.02\n"
     ]
    }
   ],
   "source": [
    "compare_with_baseline(baseline_results, model_3_results)"
   ]
  },
  {
   "cell_type": "markdown",
   "metadata": {},
   "source": [
    "### Bidirection RNN "
   ]
  },
  {
   "cell_type": "code",
   "execution_count": 54,
   "metadata": {
    "execution": {
     "iopub.execute_input": "2023-10-04T07:55:18.615783Z",
     "iopub.status.busy": "2023-10-04T07:55:18.61548Z",
     "iopub.status.idle": "2023-10-04T07:55:19.244617Z",
     "shell.execute_reply": "2023-10-04T07:55:19.243228Z",
     "shell.execute_reply.started": "2023-10-04T07:55:18.615757Z"
    }
   },
   "outputs": [
    {
     "name": "stdout",
     "output_type": "stream",
     "text": [
      "Model: \"model_4_Bidrectional\"\n",
      "_________________________________________________________________\n",
      " Layer (type)                Output Shape              Param #   \n",
      "=================================================================\n",
      " input_4 (InputLayer)        [(None, 1)]               0         \n",
      "                                                                 \n",
      " text_vectorization (TextVec  (None, 15)               0         \n",
      " torization)                                                     \n",
      "                                                                 \n",
      " embedding_4 (Embedding)     (None, 15, 128)           1280000   \n",
      "                                                                 \n",
      " bidirectional (Bidirectiona  (None, 128)              98816     \n",
      " l)                                                              \n",
      "                                                                 \n",
      " dense_3 (Dense)             (None, 1)                 129       \n",
      "                                                                 \n",
      "=================================================================\n",
      "Total params: 1,378,945\n",
      "Trainable params: 1,378,945\n",
      "Non-trainable params: 0\n",
      "_________________________________________________________________\n"
     ]
    }
   ],
   "source": [
    "model_4_embedding = layers.Embedding(input_dim = 10000,\n",
    "                                     output_dim = 128,\n",
    "                                     embeddings_initializer=\"uniform\",\n",
    "                                     input_length = 15,\n",
    "                                     name = \"embedding_4\")\n",
    "\n",
    "# model\n",
    "\n",
    "inputs = layers.Input(shape=(1,), dtype = \"string\")\n",
    "x = text_vectorizer(inputs)\n",
    "x = model_4_embedding(x)\n",
    "x = layers.Bidirectional(layers.LSTM(64))(x)\n",
    "outputs = layers.Dense(1, activation = \"sigmoid\")(x)\n",
    "\n",
    "model_4 = tf.keras.Model(inputs, outputs, name = \"model_4_Bidrectional\")\n",
    "model_4.summary()"
   ]
  },
  {
   "cell_type": "code",
   "execution_count": 55,
   "metadata": {
    "execution": {
     "iopub.execute_input": "2023-10-04T07:55:19.246856Z",
     "iopub.status.busy": "2023-10-04T07:55:19.246397Z",
     "iopub.status.idle": "2023-10-04T07:55:19.261958Z",
     "shell.execute_reply": "2023-10-04T07:55:19.260672Z",
     "shell.execute_reply.started": "2023-10-04T07:55:19.246814Z"
    }
   },
   "outputs": [],
   "source": [
    "model_4.compile( loss = \"binary_crossentropy\",\n",
    "                 optimizer = tf.keras.optimizers.Adam(),\n",
    "                 metrics = [\"accuracy\"])"
   ]
  },
  {
   "cell_type": "code",
   "execution_count": 56,
   "metadata": {
    "execution": {
     "iopub.execute_input": "2023-10-04T07:55:19.263446Z",
     "iopub.status.busy": "2023-10-04T07:55:19.263077Z",
     "iopub.status.idle": "2023-10-04T07:55:55.736707Z",
     "shell.execute_reply": "2023-10-04T07:55:55.735868Z",
     "shell.execute_reply.started": "2023-10-04T07:55:19.263416Z"
    }
   },
   "outputs": [
    {
     "name": "stdout",
     "output_type": "stream",
     "text": [
      "Saving TensorBoard log files to: model_logs/bidirectional_RNN/20231117-155521\n",
      "Epoch 1/5\n",
      "215/215 [==============================] - 12s 37ms/step - loss: 0.5093 - accuracy: 0.7463 - val_loss: 0.4581 - val_accuracy: 0.7808\n",
      "Epoch 2/5\n",
      "215/215 [==============================] - 7s 31ms/step - loss: 0.3139 - accuracy: 0.8716 - val_loss: 0.5212 - val_accuracy: 0.7769\n",
      "Epoch 3/5\n",
      "215/215 [==============================] - 6s 29ms/step - loss: 0.2144 - accuracy: 0.9159 - val_loss: 0.5572 - val_accuracy: 0.7808\n",
      "Epoch 4/5\n",
      "215/215 [==============================] - 7s 32ms/step - loss: 0.1500 - accuracy: 0.9483 - val_loss: 0.6529 - val_accuracy: 0.7690\n",
      "Epoch 5/5\n",
      "215/215 [==============================] - 7s 31ms/step - loss: 0.1087 - accuracy: 0.9634 - val_loss: 0.6409 - val_accuracy: 0.7743\n"
     ]
    }
   ],
   "source": [
    "model_4_history = model_4.fit(train_sentences,\n",
    "                              train_labels, \n",
    "                              epochs = 5,\n",
    "                              validation_data = (val_sentences, val_labels),\n",
    "                              callbacks=[create_tensorboard_callback(SAVE_DIR, \"bidirectional_RNN\")])"
   ]
  },
  {
   "cell_type": "code",
   "execution_count": 57,
   "metadata": {
    "execution": {
     "iopub.execute_input": "2023-10-04T07:55:55.738876Z",
     "iopub.status.busy": "2023-10-04T07:55:55.738322Z",
     "iopub.status.idle": "2023-10-04T07:55:56.717671Z",
     "shell.execute_reply": "2023-10-04T07:55:56.716396Z",
     "shell.execute_reply.started": "2023-10-04T07:55:55.73884Z"
    }
   },
   "outputs": [
    {
     "name": "stdout",
     "output_type": "stream",
     "text": [
      "24/24 [==============================] - 1s 5ms/step\n"
     ]
    },
    {
     "data": {
      "text/plain": [
       "array([[0.08071624],\n",
       "       [0.7950895 ],\n",
       "       [0.99814373],\n",
       "       [0.13418154],\n",
       "       [0.00580174],\n",
       "       [0.9961067 ],\n",
       "       [0.8982241 ],\n",
       "       [0.9993657 ],\n",
       "       [0.999306  ],\n",
       "       [0.27218336]], dtype=float32)"
      ]
     },
     "execution_count": 57,
     "metadata": {},
     "output_type": "execute_result"
    }
   ],
   "source": [
    "model_4_pred_probs = model_4.predict(val_sentences)\n",
    "model_4_pred_probs[:10]"
   ]
  },
  {
   "cell_type": "code",
   "execution_count": 58,
   "metadata": {
    "execution": {
     "iopub.execute_input": "2023-10-04T07:55:56.719459Z",
     "iopub.status.busy": "2023-10-04T07:55:56.719053Z",
     "iopub.status.idle": "2023-10-04T07:55:56.727545Z",
     "shell.execute_reply": "2023-10-04T07:55:56.726713Z",
     "shell.execute_reply.started": "2023-10-04T07:55:56.719429Z"
    }
   },
   "outputs": [
    {
     "data": {
      "text/plain": [
       "<tf.Tensor: shape=(10,), dtype=float32, numpy=array([0., 1., 1., 0., 0., 1., 1., 1., 1., 0.], dtype=float32)>"
      ]
     },
     "execution_count": 58,
     "metadata": {},
     "output_type": "execute_result"
    }
   ],
   "source": [
    "model_4_preds = tf.squeeze(tf.round(model_4_pred_probs))\n",
    "model_4_preds[:10]"
   ]
  },
  {
   "cell_type": "code",
   "execution_count": 59,
   "metadata": {
    "execution": {
     "iopub.execute_input": "2023-10-04T07:55:56.729283Z",
     "iopub.status.busy": "2023-10-04T07:55:56.728531Z",
     "iopub.status.idle": "2023-10-04T07:55:56.746109Z",
     "shell.execute_reply": "2023-10-04T07:55:56.744672Z",
     "shell.execute_reply.started": "2023-10-04T07:55:56.729248Z"
    }
   },
   "outputs": [
    {
     "data": {
      "text/plain": [
       "{'accurracy': 77.42782152230971,\n",
       " 'precision': 0.7742199344647137,\n",
       " 'recall': 0.7742782152230971,\n",
       " 'f1': 0.7733345847061507}"
      ]
     },
     "execution_count": 59,
     "metadata": {},
     "output_type": "execute_result"
    }
   ],
   "source": [
    "model_4_results = calculate_results(val_labels, model_4_preds)\n",
    "model_4_results"
   ]
  },
  {
   "cell_type": "code",
   "execution_count": 60,
   "metadata": {
    "execution": {
     "iopub.execute_input": "2023-10-04T07:55:56.747974Z",
     "iopub.status.busy": "2023-10-04T07:55:56.747548Z",
     "iopub.status.idle": "2023-10-04T07:55:56.758695Z",
     "shell.execute_reply": "2023-10-04T07:55:56.757206Z",
     "shell.execute_reply.started": "2023-10-04T07:55:56.747935Z"
    }
   },
   "outputs": [
    {
     "name": "stdout",
     "output_type": "stream",
     "text": [
      "Baseline accurracy: 79.27, New accurracy: 77.43, Difference: -1.84\n",
      "Baseline precision: 0.81, New precision: 0.77, Difference: -0.04\n",
      "Baseline recall: 0.79, New recall: 0.77, Difference: -0.02\n",
      "Baseline f1: 0.79, New f1: 0.77, Difference: -0.01\n"
     ]
    }
   ],
   "source": [
    "compare_with_baseline(baseline_results, model_4_results)"
   ]
  },
  {
   "cell_type": "markdown",
   "metadata": {},
   "source": [
    "### CNN1D"
   ]
  },
  {
   "cell_type": "code",
   "execution_count": 61,
   "metadata": {
    "execution": {
     "iopub.execute_input": "2023-10-04T07:55:56.764325Z",
     "iopub.status.busy": "2023-10-04T07:55:56.763524Z",
     "iopub.status.idle": "2023-10-04T07:55:56.905846Z",
     "shell.execute_reply": "2023-10-04T07:55:56.90475Z",
     "shell.execute_reply.started": "2023-10-04T07:55:56.76429Z"
    }
   },
   "outputs": [
    {
     "name": "stdout",
     "output_type": "stream",
     "text": [
      "Model: \"model_5_Conv1D\"\n",
      "_________________________________________________________________\n",
      " Layer (type)                Output Shape              Param #   \n",
      "=================================================================\n",
      " input_5 (InputLayer)        [(None, 1)]               0         \n",
      "                                                                 \n",
      " text_vectorization (TextVec  (None, 15)               0         \n",
      " torization)                                                     \n",
      "                                                                 \n",
      " embedding_5 (Embedding)     (None, 15, 128)           1280000   \n",
      "                                                                 \n",
      " conv1d (Conv1D)             (None, 11, 32)            20512     \n",
      "                                                                 \n",
      " global_average_pooling1d_1   (None, 32)               0         \n",
      " (GlobalAveragePooling1D)                                        \n",
      "                                                                 \n",
      " dense_4 (Dense)             (None, 1)                 33        \n",
      "                                                                 \n",
      "=================================================================\n",
      "Total params: 1,300,545\n",
      "Trainable params: 1,300,545\n",
      "Non-trainable params: 0\n",
      "_________________________________________________________________\n"
     ]
    }
   ],
   "source": [
    "model_5_embedding = layers.Embedding(input_dim = 10000,\n",
    "                                     output_dim = 128,\n",
    "                                     embeddings_initializer = \"uniform\",\n",
    "                                     input_length = 15,\n",
    "                                     name = \"embedding_5\")\n",
    "\n",
    "\n",
    "# model \n",
    "inputs = layers.Input(shape=(1,), dtype = \"string\")\n",
    "x = text_vectorizer(inputs)\n",
    "x = model_5_embedding(x)\n",
    "x = layers.Conv1D(filters = 32, kernel_size = 5, activation = \"relu\")(x)\n",
    "x = layers.GlobalAveragePooling1D()(x)\n",
    "outputs = layers.Dense(1, activation = \"sigmoid\")(x)\n",
    "\n",
    "model_5 = tf.keras.Model(inputs, outputs, name=\"model_5_Conv1D\")\n",
    "model_5.summary()\n"
   ]
  },
  {
   "cell_type": "code",
   "execution_count": 62,
   "metadata": {
    "execution": {
     "iopub.execute_input": "2023-10-04T07:55:56.907966Z",
     "iopub.status.busy": "2023-10-04T07:55:56.907428Z",
     "iopub.status.idle": "2023-10-04T07:55:56.926701Z",
     "shell.execute_reply": "2023-10-04T07:55:56.925285Z",
     "shell.execute_reply.started": "2023-10-04T07:55:56.907925Z"
    }
   },
   "outputs": [],
   "source": [
    "model_5.compile(loss = \"binary_crossentropy\",\n",
    "                optimizer = tf.keras.optimizers.Adam(),\n",
    "                metrics = [\"accuracy\"])"
   ]
  },
  {
   "cell_type": "code",
   "execution_count": 63,
   "metadata": {
    "execution": {
     "iopub.execute_input": "2023-10-04T07:55:56.92921Z",
     "iopub.status.busy": "2023-10-04T07:55:56.92873Z",
     "iopub.status.idle": "2023-10-04T07:56:13.872505Z",
     "shell.execute_reply": "2023-10-04T07:56:13.87138Z",
     "shell.execute_reply.started": "2023-10-04T07:55:56.929167Z"
    }
   },
   "outputs": [
    {
     "name": "stdout",
     "output_type": "stream",
     "text": [
      "Saving TensorBoard log files to: model_logs/Conv1D/20231117-155600\n",
      "Epoch 1/5\n",
      "215/215 [==============================] - 5s 21ms/step - loss: 0.5372 - accuracy: 0.7330 - val_loss: 0.4648 - val_accuracy: 0.7835\n",
      "Epoch 2/5\n",
      "215/215 [==============================] - 4s 20ms/step - loss: 0.3386 - accuracy: 0.8578 - val_loss: 0.5054 - val_accuracy: 0.7835\n",
      "Epoch 3/5\n",
      "215/215 [==============================] - 5s 21ms/step - loss: 0.2340 - accuracy: 0.9101 - val_loss: 0.5757 - val_accuracy: 0.7677\n",
      "Epoch 4/5\n",
      "215/215 [==============================] - 4s 20ms/step - loss: 0.1677 - accuracy: 0.9339 - val_loss: 0.6746 - val_accuracy: 0.7625\n",
      "Epoch 5/5\n",
      "215/215 [==============================] - 4s 21ms/step - loss: 0.1246 - accuracy: 0.9520 - val_loss: 0.7706 - val_accuracy: 0.7559\n"
     ]
    }
   ],
   "source": [
    "model_5_history = model_5.fit(train_sentences,\n",
    "                              train_labels,\n",
    "                              epochs = 5,\n",
    "                              validation_data = (val_sentences, val_labels),\n",
    "                              callbacks = [create_tensorboard_callback(SAVE_DIR, \n",
    "                                                                     \"Conv1D\")])"
   ]
  },
  {
   "cell_type": "code",
   "execution_count": 64,
   "metadata": {
    "execution": {
     "iopub.execute_input": "2023-10-04T07:56:13.876045Z",
     "iopub.status.busy": "2023-10-04T07:56:13.875302Z",
     "iopub.status.idle": "2023-10-04T07:56:14.108098Z",
     "shell.execute_reply": "2023-10-04T07:56:14.106899Z",
     "shell.execute_reply.started": "2023-10-04T07:56:13.876Z"
    }
   },
   "outputs": [
    {
     "name": "stdout",
     "output_type": "stream",
     "text": [
      "24/24 [==============================] - 0s 3ms/step\n"
     ]
    },
    {
     "data": {
      "text/plain": [
       "array([[0.5014937 ],\n",
       "       [0.8078126 ],\n",
       "       [0.99999803],\n",
       "       [0.01810206],\n",
       "       [0.01674863],\n",
       "       [0.99092996],\n",
       "       [0.695663  ],\n",
       "       [0.9996881 ],\n",
       "       [0.9999977 ],\n",
       "       [0.17936657]], dtype=float32)"
      ]
     },
     "execution_count": 64,
     "metadata": {},
     "output_type": "execute_result"
    }
   ],
   "source": [
    "model_5_pred_probs = model_5.predict(val_sentences)\n",
    "model_5_pred_probs[:10]"
   ]
  },
  {
   "cell_type": "code",
   "execution_count": 65,
   "metadata": {
    "execution": {
     "iopub.execute_input": "2023-10-04T07:56:14.110212Z",
     "iopub.status.busy": "2023-10-04T07:56:14.10974Z",
     "iopub.status.idle": "2023-10-04T07:56:14.119414Z",
     "shell.execute_reply": "2023-10-04T07:56:14.118198Z",
     "shell.execute_reply.started": "2023-10-04T07:56:14.110145Z"
    }
   },
   "outputs": [
    {
     "data": {
      "text/plain": [
       "<tf.Tensor: shape=(10,), dtype=float32, numpy=array([1., 1., 1., 0., 0., 1., 1., 1., 1., 0.], dtype=float32)>"
      ]
     },
     "execution_count": 65,
     "metadata": {},
     "output_type": "execute_result"
    }
   ],
   "source": [
    "model_5_preds = tf.squeeze(tf.round(model_5_pred_probs))\n",
    "model_5_preds[:10]"
   ]
  },
  {
   "cell_type": "code",
   "execution_count": 66,
   "metadata": {
    "execution": {
     "iopub.execute_input": "2023-10-04T07:56:14.122133Z",
     "iopub.status.busy": "2023-10-04T07:56:14.121293Z",
     "iopub.status.idle": "2023-10-04T07:56:14.140658Z",
     "shell.execute_reply": "2023-10-04T07:56:14.139397Z",
     "shell.execute_reply.started": "2023-10-04T07:56:14.121954Z"
    }
   },
   "outputs": [
    {
     "data": {
      "text/plain": [
       "{'accurracy': 75.59055118110236,\n",
       " 'precision': 0.7556483058194802,\n",
       " 'recall': 0.7559055118110236,\n",
       " 'f1': 0.7548850741589771}"
      ]
     },
     "execution_count": 66,
     "metadata": {},
     "output_type": "execute_result"
    }
   ],
   "source": [
    "model_5_results = calculate_results(y_true=val_labels, \n",
    "                                    y_pred=model_5_preds)\n",
    "model_5_results"
   ]
  },
  {
   "cell_type": "code",
   "execution_count": 67,
   "metadata": {
    "execution": {
     "iopub.execute_input": "2023-10-04T07:56:14.143612Z",
     "iopub.status.busy": "2023-10-04T07:56:14.142425Z",
     "iopub.status.idle": "2023-10-04T07:56:14.150405Z",
     "shell.execute_reply": "2023-10-04T07:56:14.149301Z",
     "shell.execute_reply.started": "2023-10-04T07:56:14.143569Z"
    }
   },
   "outputs": [
    {
     "name": "stdout",
     "output_type": "stream",
     "text": [
      "Baseline accurracy: 79.27, New accurracy: 75.59, Difference: -3.67\n",
      "Baseline precision: 0.81, New precision: 0.76, Difference: -0.06\n",
      "Baseline recall: 0.79, New recall: 0.76, Difference: -0.04\n",
      "Baseline f1: 0.79, New f1: 0.75, Difference: -0.03\n"
     ]
    }
   ],
   "source": [
    "compare_with_baseline(baseline_results, model_5_results)"
   ]
  },
  {
   "cell_type": "markdown",
   "metadata": {},
   "source": [
    "### Model 6: TensorFlow Hub Pretrained Sentence Encoder"
   ]
  },
  {
   "cell_type": "code",
   "execution_count": 68,
   "metadata": {
    "execution": {
     "iopub.execute_input": "2023-10-04T07:56:14.153091Z",
     "iopub.status.busy": "2023-10-04T07:56:14.152293Z",
     "iopub.status.idle": "2023-10-04T07:56:14.576828Z",
     "shell.execute_reply": "2023-10-04T07:56:14.575647Z",
     "shell.execute_reply.started": "2023-10-04T07:56:14.153052Z"
    }
   },
   "outputs": [],
   "source": [
    "import tensorflow_hub as hub"
   ]
  },
  {
   "cell_type": "code",
   "execution_count": 80,
   "metadata": {
    "execution": {
     "iopub.execute_input": "2023-10-04T07:56:14.579479Z",
     "iopub.status.busy": "2023-10-04T07:56:14.578654Z",
     "iopub.status.idle": "2023-10-04T07:56:33.157589Z",
     "shell.execute_reply": "2023-10-04T07:56:33.156699Z",
     "shell.execute_reply.started": "2023-10-04T07:56:14.579438Z"
    }
   },
   "outputs": [
    {
     "name": "stderr",
     "output_type": "stream",
     "text": [
      "WARNING:absl:Deleting lock file C:\\Users\\YASH\\AppData\\Local\\Temp\\tfhub_modules\\063d866c06683311b44b4992fd46003be952409c.lock due to inactivity.\n"
     ]
    }
   ],
   "source": [
    "sentence_encoder_layer = hub.KerasLayer(\"https://tfhub.dev/google/universal-sentence-encoder/4\",\n",
    "                                        input_shape=[],\n",
    "                                        dtype=tf.string,\n",
    "                                        trainable=False,\n",
    "                                        name=\"USE\")\n"
   ]
  },
  {
   "cell_type": "code",
   "execution_count": 81,
   "metadata": {
    "execution": {
     "iopub.execute_input": "2023-10-04T07:56:33.159606Z",
     "iopub.status.busy": "2023-10-04T07:56:33.158636Z",
     "iopub.status.idle": "2023-10-04T07:56:34.150437Z",
     "shell.execute_reply": "2023-10-04T07:56:34.149266Z",
     "shell.execute_reply.started": "2023-10-04T07:56:33.159571Z"
    }
   },
   "outputs": [
    {
     "name": "stdout",
     "output_type": "stream",
     "text": [
      "WARNING:tensorflow:From c:\\users\\yash\\appdata\\local\\programs\\python\\python37\\lib\\site-packages\\tensorflow\\python\\autograph\\pyct\\static_analysis\\liveness.py:83: Analyzer.lamba_check (from tensorflow.python.autograph.pyct.static_analysis.liveness) is deprecated and will be removed after 2023-09-23.\n",
      "Instructions for updating:\n",
      "Lambda fuctions will be no more assumed to be used in the statement where they are used, or at least in the same block. https://github.com/tensorflow/tensorflow/issues/56089\n"
     ]
    },
    {
     "name": "stderr",
     "output_type": "stream",
     "text": [
      "WARNING:tensorflow:From c:\\users\\yash\\appdata\\local\\programs\\python\\python37\\lib\\site-packages\\tensorflow\\python\\autograph\\pyct\\static_analysis\\liveness.py:83: Analyzer.lamba_check (from tensorflow.python.autograph.pyct.static_analysis.liveness) is deprecated and will be removed after 2023-09-23.\n",
      "Instructions for updating:\n",
      "Lambda fuctions will be no more assumed to be used in the statement where they are used, or at least in the same block. https://github.com/tensorflow/tensorflow/issues/56089\n"
     ]
    },
    {
     "name": "stdout",
     "output_type": "stream",
     "text": [
      "Model: \"model_6\"\n",
      "_________________________________________________________________\n",
      " Layer (type)                Output Shape              Param #   \n",
      "=================================================================\n",
      " USE (KerasLayer)            (None, 512)               256797824 \n",
      "                                                                 \n",
      " dense_5 (Dense)             (None, 64)                32832     \n",
      "                                                                 \n",
      " dense_6 (Dense)             (None, 1)                 65        \n",
      "                                                                 \n",
      "=================================================================\n",
      "Total params: 256,830,721\n",
      "Trainable params: 32,897\n",
      "Non-trainable params: 256,797,824\n",
      "_________________________________________________________________\n"
     ]
    }
   ],
   "source": [
    "model_6 = tf.keras.Sequential([\n",
    "    \n",
    "    sentence_encoder_layer,\n",
    "    layers.Dense(64, activation = \"relu\"),\n",
    "    layers.Dense(1, activation = \"relu\"),\n",
    "], name = 'model_6')\n",
    "\n",
    "model_6.compile(loss = \"binary_crossentropy\",\n",
    "                optimizer = tf.keras.optimizers.Adam(),\n",
    "                metrics = [\"accuracy\"])\n",
    "\n",
    "model_6.summary()"
   ]
  },
  {
   "cell_type": "code",
   "execution_count": 82,
   "metadata": {
    "execution": {
     "iopub.execute_input": "2023-10-04T07:56:34.152136Z",
     "iopub.status.busy": "2023-10-04T07:56:34.151824Z",
     "iopub.status.idle": "2023-10-04T07:56:48.387147Z",
     "shell.execute_reply": "2023-10-04T07:56:48.386221Z",
     "shell.execute_reply.started": "2023-10-04T07:56:34.152109Z"
    }
   },
   "outputs": [
    {
     "name": "stdout",
     "output_type": "stream",
     "text": [
      "Saving TensorBoard log files to: model_logs/tf_hub_sentence_encoder/20231117-182629\n",
      "Epoch 1/5\n",
      "215/215 [==============================] - 5s 10ms/step - loss: 0.5155 - accuracy: 0.7843 - val_loss: 0.4819 - val_accuracy: 0.7927\n",
      "Epoch 2/5\n",
      "215/215 [==============================] - 2s 8ms/step - loss: 0.4434 - accuracy: 0.8098 - val_loss: 0.4746 - val_accuracy: 0.7979\n",
      "Epoch 3/5\n",
      "215/215 [==============================] - 2s 8ms/step - loss: 0.4180 - accuracy: 0.8177 - val_loss: 0.5230 - val_accuracy: 0.7979\n",
      "Epoch 4/5\n",
      "215/215 [==============================] - 2s 8ms/step - loss: 0.4168 - accuracy: 0.8170 - val_loss: 0.5654 - val_accuracy: 0.8045\n",
      "Epoch 5/5\n",
      "215/215 [==============================] - 2s 10ms/step - loss: 0.3987 - accuracy: 0.8259 - val_loss: 0.6076 - val_accuracy: 0.8084\n"
     ]
    }
   ],
   "source": [
    "model_6_history = model_6.fit(train_sentences,\n",
    "                              train_labels,\n",
    "                              epochs = 5,\n",
    "                              validation_data = (val_sentences, val_labels),\n",
    "                              callbacks = [create_tensorboard_callback(SAVE_DIR, \n",
    "                                                                     \"tf_hub_sentence_encoder\")])"
   ]
  },
  {
   "cell_type": "code",
   "execution_count": 83,
   "metadata": {
    "execution": {
     "iopub.execute_input": "2023-10-04T07:56:48.390191Z",
     "iopub.status.busy": "2023-10-04T07:56:48.389184Z",
     "iopub.status.idle": "2023-10-04T07:56:49.120626Z",
     "shell.execute_reply": "2023-10-04T07:56:49.119661Z",
     "shell.execute_reply.started": "2023-10-04T07:56:48.390154Z"
    }
   },
   "outputs": [
    {
     "name": "stdout",
     "output_type": "stream",
     "text": [
      "24/24 [==============================] - 1s 8ms/step\n"
     ]
    },
    {
     "data": {
      "text/plain": [
       "array([[0.11399745],\n",
       "       [0.79994965],\n",
       "       [1.3911887 ],\n",
       "       [0.13993517],\n",
       "       [0.7157925 ],\n",
       "       [0.67711616],\n",
       "       [1.3371584 ],\n",
       "       [1.2963301 ],\n",
       "       [1.0150523 ],\n",
       "       [0.10937603]], dtype=float32)"
      ]
     },
     "execution_count": 83,
     "metadata": {},
     "output_type": "execute_result"
    }
   ],
   "source": [
    "model_6_pred_probs = model_6.predict(val_sentences)\n",
    "model_6_pred_probs[:10]"
   ]
  },
  {
   "cell_type": "code",
   "execution_count": 84,
   "metadata": {
    "execution": {
     "iopub.execute_input": "2023-10-04T07:56:49.122986Z",
     "iopub.status.busy": "2023-10-04T07:56:49.12264Z",
     "iopub.status.idle": "2023-10-04T07:56:49.131134Z",
     "shell.execute_reply": "2023-10-04T07:56:49.129874Z",
     "shell.execute_reply.started": "2023-10-04T07:56:49.122957Z"
    }
   },
   "outputs": [
    {
     "data": {
      "text/plain": [
       "<tf.Tensor: shape=(10,), dtype=float32, numpy=array([0., 1., 1., 0., 1., 1., 1., 1., 1., 0.], dtype=float32)>"
      ]
     },
     "execution_count": 84,
     "metadata": {},
     "output_type": "execute_result"
    }
   ],
   "source": [
    "model_6_preds = tf.squeeze(tf.round(model_6_pred_probs))\n",
    "model_6_preds[:10]"
   ]
  },
  {
   "cell_type": "code",
   "execution_count": 85,
   "metadata": {
    "execution": {
     "iopub.execute_input": "2023-10-04T07:56:49.133358Z",
     "iopub.status.busy": "2023-10-04T07:56:49.13305Z",
     "iopub.status.idle": "2023-10-04T07:56:49.156035Z",
     "shell.execute_reply": "2023-10-04T07:56:49.154909Z",
     "shell.execute_reply.started": "2023-10-04T07:56:49.133332Z"
    }
   },
   "outputs": [
    {
     "name": "stderr",
     "output_type": "stream",
     "text": [
      "c:\\users\\yash\\appdata\\local\\programs\\python\\python37\\lib\\site-packages\\sklearn\\metrics\\_classification.py:1318: UndefinedMetricWarning: Recall and F-score are ill-defined and being set to 0.0 in labels with no true samples. Use `zero_division` parameter to control this behavior.\n",
      "  _warn_prf(average, modifier, msg_start, len(result))\n"
     ]
    },
    {
     "data": {
      "text/plain": [
       "{'accurracy': 80.4461942257218,\n",
       " 'precision': 0.8096261449601239,\n",
       " 'recall': 0.8044619422572179,\n",
       " 'f1': 0.8042970713199226}"
      ]
     },
     "execution_count": 85,
     "metadata": {},
     "output_type": "execute_result"
    }
   ],
   "source": [
    "model_6_results = calculate_results(val_labels, model_6_preds)\n",
    "model_6_results"
   ]
  },
  {
   "cell_type": "code",
   "execution_count": 86,
   "metadata": {
    "execution": {
     "iopub.execute_input": "2023-10-04T07:56:49.157835Z",
     "iopub.status.busy": "2023-10-04T07:56:49.157051Z",
     "iopub.status.idle": "2023-10-04T07:56:49.162153Z",
     "shell.execute_reply": "2023-10-04T07:56:49.16135Z",
     "shell.execute_reply.started": "2023-10-04T07:56:49.157776Z"
    }
   },
   "outputs": [
    {
     "name": "stdout",
     "output_type": "stream",
     "text": [
      "Baseline accurracy: 79.27, New accurracy: 80.45, Difference: 1.18\n",
      "Baseline precision: 0.81, New precision: 0.81, Difference: -0.00\n",
      "Baseline recall: 0.79, New recall: 0.80, Difference: 0.01\n",
      "Baseline f1: 0.79, New f1: 0.80, Difference: 0.02\n"
     ]
    }
   ],
   "source": [
    "compare_with_baseline(baseline_results, model_6_results)"
   ]
  },
  {
   "cell_type": "markdown",
   "metadata": {},
   "source": [
    "### Model 7: TensorFlow Hub Pretrained Sentence Encoder 10% of the training data"
   ]
  },
  {
   "cell_type": "code",
   "execution_count": 87,
   "metadata": {
    "execution": {
     "iopub.execute_input": "2023-10-04T07:56:49.163399Z",
     "iopub.status.busy": "2023-10-04T07:56:49.163053Z",
     "iopub.status.idle": "2023-10-04T07:56:49.179051Z",
     "shell.execute_reply": "2023-10-04T07:56:49.177939Z",
     "shell.execute_reply.started": "2023-10-04T07:56:49.16337Z"
    }
   },
   "outputs": [],
   "source": [
    "# split our data into 10% training\n",
    "import numpy as np\n",
    "train_90, train_10, train_labels_90, train_labels_10 = train_test_split(np.array(train_sentences),\n",
    "                                                                        train_labels,\n",
    "                                                                        test_size=0.1,\n",
    "                                                                        random_state=42)\n",
    "   \n",
    "                                           "
   ]
  },
  {
   "cell_type": "code",
   "execution_count": 88,
   "metadata": {
    "execution": {
     "iopub.execute_input": "2023-10-04T07:56:49.181131Z",
     "iopub.status.busy": "2023-10-04T07:56:49.180729Z",
     "iopub.status.idle": "2023-10-04T07:56:49.20143Z",
     "shell.execute_reply": "2023-10-04T07:56:49.20032Z",
     "shell.execute_reply.started": "2023-10-04T07:56:49.181096Z"
    }
   },
   "outputs": [
    {
     "data": {
      "text/plain": [
       "(6851, 686)"
      ]
     },
     "execution_count": 88,
     "metadata": {},
     "output_type": "execute_result"
    }
   ],
   "source": [
    "len(train_sentences), len(train_10)"
   ]
  },
  {
   "cell_type": "code",
   "execution_count": 89,
   "metadata": {
    "execution": {
     "iopub.execute_input": "2023-10-04T07:56:49.203196Z",
     "iopub.status.busy": "2023-10-04T07:56:49.202626Z",
     "iopub.status.idle": "2023-10-04T07:56:49.219136Z",
     "shell.execute_reply": "2023-10-04T07:56:49.218124Z",
     "shell.execute_reply.started": "2023-10-04T07:56:49.203166Z"
    }
   },
   "outputs": [
    {
     "data": {
      "text/plain": [
       "0    415\n",
       "1    271\n",
       "dtype: int64"
      ]
     },
     "execution_count": 89,
     "metadata": {},
     "output_type": "execute_result"
    }
   ],
   "source": [
    "pd.Series(train_labels_10).value_counts()"
   ]
  },
  {
   "cell_type": "code",
   "execution_count": 90,
   "metadata": {
    "execution": {
     "iopub.execute_input": "2023-10-04T07:56:49.22055Z",
     "iopub.status.busy": "2023-10-04T07:56:49.22023Z",
     "iopub.status.idle": "2023-10-04T07:56:55.118502Z",
     "shell.execute_reply": "2023-10-04T07:56:55.117223Z",
     "shell.execute_reply.started": "2023-10-04T07:56:49.220524Z"
    }
   },
   "outputs": [
    {
     "name": "stdout",
     "output_type": "stream",
     "text": [
      "Model: \"model_6\"\n",
      "_________________________________________________________________\n",
      " Layer (type)                Output Shape              Param #   \n",
      "=================================================================\n",
      " USE (KerasLayer)            (None, 512)               256797824 \n",
      "                                                                 \n",
      " dense_5 (Dense)             (None, 64)                32832     \n",
      "                                                                 \n",
      " dense_6 (Dense)             (None, 1)                 65        \n",
      "                                                                 \n",
      "=================================================================\n",
      "Total params: 256,830,721\n",
      "Trainable params: 32,897\n",
      "Non-trainable params: 256,797,824\n",
      "_________________________________________________________________\n"
     ]
    }
   ],
   "source": [
    "# model 7 \n",
    "model_7 = tf.keras.models.clone_model(model_6)\n",
    "\n",
    "model_7.compile(loss = \"binary_crossentropy\",\n",
    "                optimizer = \"Adam\",\n",
    "                metrics = [\"accuracy\"])\n",
    "\n",
    "model_7.summary()"
   ]
  },
  {
   "cell_type": "code",
   "execution_count": 91,
   "metadata": {
    "execution": {
     "iopub.execute_input": "2023-10-04T07:56:55.120755Z",
     "iopub.status.busy": "2023-10-04T07:56:55.120341Z",
     "iopub.status.idle": "2023-10-04T07:57:02.93896Z",
     "shell.execute_reply": "2023-10-04T07:57:02.937594Z",
     "shell.execute_reply.started": "2023-10-04T07:56:55.120713Z"
    }
   },
   "outputs": [
    {
     "name": "stdout",
     "output_type": "stream",
     "text": [
      "Saving TensorBoard log files to: model_logs/10_percent_tf_hub_sentence_encoder/20231117-183713\n",
      "Epoch 1/5\n",
      "22/22 [==============================] - 3s 40ms/step - loss: 1.2410 - accuracy: 0.6050 - val_loss: 0.6924 - val_accuracy: 0.5512\n",
      "Epoch 2/5\n",
      "22/22 [==============================] - 0s 16ms/step - loss: 0.5516 - accuracy: 0.7230 - val_loss: 0.5597 - val_accuracy: 0.7362\n",
      "Epoch 3/5\n",
      "22/22 [==============================] - 0s 16ms/step - loss: 0.4809 - accuracy: 0.8134 - val_loss: 0.5139 - val_accuracy: 0.7782\n",
      "Epoch 4/5\n",
      "22/22 [==============================] - 0s 15ms/step - loss: 0.4354 - accuracy: 0.8294 - val_loss: 0.4900 - val_accuracy: 0.7822\n",
      "Epoch 5/5\n",
      "22/22 [==============================] - 0s 15ms/step - loss: 0.3969 - accuracy: 0.8426 - val_loss: 0.4942 - val_accuracy: 0.7874\n"
     ]
    }
   ],
   "source": [
    "model_7_history = model_7.fit(x=train_10,\n",
    "                              y=train_labels_10,\n",
    "                              epochs=5,\n",
    "                              validation_data=(val_sentences, val_labels),\n",
    "                              callbacks=[create_tensorboard_callback(SAVE_DIR, \"10_percent_tf_hub_sentence_encoder\")])"
   ]
  },
  {
   "cell_type": "code",
   "execution_count": 92,
   "metadata": {
    "execution": {
     "iopub.execute_input": "2023-10-04T07:57:02.941366Z",
     "iopub.status.busy": "2023-10-04T07:57:02.940902Z",
     "iopub.status.idle": "2023-10-04T07:57:03.601702Z",
     "shell.execute_reply": "2023-10-04T07:57:03.600549Z",
     "shell.execute_reply.started": "2023-10-04T07:57:02.941321Z"
    }
   },
   "outputs": [
    {
     "name": "stdout",
     "output_type": "stream",
     "text": [
      "24/24 [==============================] - 1s 8ms/step\n"
     ]
    },
    {
     "data": {
      "text/plain": [
       "array([[0.42123047],\n",
       "       [0.69009393],\n",
       "       [0.95541304],\n",
       "       [0.15725602],\n",
       "       [0.46360886],\n",
       "       [0.97784144],\n",
       "       [0.79573655],\n",
       "       [0.9710633 ],\n",
       "       [0.95435715],\n",
       "       [0.09189125]], dtype=float32)"
      ]
     },
     "execution_count": 92,
     "metadata": {},
     "output_type": "execute_result"
    }
   ],
   "source": [
    "model_7_pred_probs = model_7.predict(val_sentences)\n",
    "model_7_pred_probs[:10]"
   ]
  },
  {
   "cell_type": "code",
   "execution_count": 93,
   "metadata": {
    "execution": {
     "iopub.execute_input": "2023-10-04T07:57:03.613327Z",
     "iopub.status.busy": "2023-10-04T07:57:03.612568Z",
     "iopub.status.idle": "2023-10-04T07:57:03.622554Z",
     "shell.execute_reply": "2023-10-04T07:57:03.621398Z",
     "shell.execute_reply.started": "2023-10-04T07:57:03.613261Z"
    }
   },
   "outputs": [
    {
     "data": {
      "text/plain": [
       "<tf.Tensor: shape=(10,), dtype=float32, numpy=array([0., 1., 1., 0., 0., 1., 1., 1., 1., 0.], dtype=float32)>"
      ]
     },
     "execution_count": 93,
     "metadata": {},
     "output_type": "execute_result"
    }
   ],
   "source": [
    "model_7_preds = tf.squeeze(tf.round(model_7_pred_probs))\n",
    "model_7_preds[:10]"
   ]
  },
  {
   "cell_type": "code",
   "execution_count": 94,
   "metadata": {
    "execution": {
     "iopub.execute_input": "2023-10-04T07:57:03.624191Z",
     "iopub.status.busy": "2023-10-04T07:57:03.623701Z",
     "iopub.status.idle": "2023-10-04T07:57:03.639152Z",
     "shell.execute_reply": "2023-10-04T07:57:03.638282Z",
     "shell.execute_reply.started": "2023-10-04T07:57:03.62416Z"
    }
   },
   "outputs": [
    {
     "data": {
      "text/plain": [
       "{'accurracy': 78.74015748031496,\n",
       " 'precision': 0.7923216200196284,\n",
       " 'recall': 0.7874015748031497,\n",
       " 'f1': 0.7844114973523961}"
      ]
     },
     "execution_count": 94,
     "metadata": {},
     "output_type": "execute_result"
    }
   ],
   "source": [
    "model_7_results = calculate_results(val_labels, model_7_preds)\n",
    "model_7_results"
   ]
  },
  {
   "cell_type": "code",
   "execution_count": 95,
   "metadata": {
    "execution": {
     "iopub.execute_input": "2023-10-04T07:57:03.641002Z",
     "iopub.status.busy": "2023-10-04T07:57:03.64044Z",
     "iopub.status.idle": "2023-10-04T07:57:03.650342Z",
     "shell.execute_reply": "2023-10-04T07:57:03.649355Z",
     "shell.execute_reply.started": "2023-10-04T07:57:03.640972Z"
    }
   },
   "outputs": [
    {
     "name": "stdout",
     "output_type": "stream",
     "text": [
      "Baseline accurracy: 79.27, New accurracy: 78.74, Difference: -0.52\n",
      "Baseline precision: 0.81, New precision: 0.79, Difference: -0.02\n",
      "Baseline recall: 0.79, New recall: 0.79, Difference: -0.01\n",
      "Baseline f1: 0.79, New f1: 0.78, Difference: -0.00\n"
     ]
    }
   ],
   "source": [
    "compare_with_baseline(baseline_results, model_7_results)"
   ]
  },
  {
   "cell_type": "markdown",
   "metadata": {},
   "source": [
    "## Comparing Results Of All Models"
   ]
  },
  {
   "cell_type": "code",
   "execution_count": 96,
   "metadata": {
    "execution": {
     "iopub.execute_input": "2023-10-04T07:57:03.651981Z",
     "iopub.status.busy": "2023-10-04T07:57:03.65163Z",
     "iopub.status.idle": "2023-10-04T07:57:03.674255Z",
     "shell.execute_reply": "2023-10-04T07:57:03.672873Z",
     "shell.execute_reply.started": "2023-10-04T07:57:03.651943Z"
    }
   },
   "outputs": [
    {
     "data": {
      "text/html": [
       "<div>\n",
       "<style scoped>\n",
       "    .dataframe tbody tr th:only-of-type {\n",
       "        vertical-align: middle;\n",
       "    }\n",
       "\n",
       "    .dataframe tbody tr th {\n",
       "        vertical-align: top;\n",
       "    }\n",
       "\n",
       "    .dataframe thead th {\n",
       "        text-align: right;\n",
       "    }\n",
       "</style>\n",
       "<table border=\"1\" class=\"dataframe\">\n",
       "  <thead>\n",
       "    <tr style=\"text-align: right;\">\n",
       "      <th></th>\n",
       "      <th>accurracy</th>\n",
       "      <th>precision</th>\n",
       "      <th>recall</th>\n",
       "      <th>f1</th>\n",
       "    </tr>\n",
       "  </thead>\n",
       "  <tbody>\n",
       "    <tr>\n",
       "      <th>Baseline</th>\n",
       "      <td>79.265092</td>\n",
       "      <td>0.811139</td>\n",
       "      <td>0.792651</td>\n",
       "      <td>0.786219</td>\n",
       "    </tr>\n",
       "    <tr>\n",
       "      <th>Simple Dense</th>\n",
       "      <td>78.608924</td>\n",
       "      <td>0.790328</td>\n",
       "      <td>0.786089</td>\n",
       "      <td>0.783297</td>\n",
       "    </tr>\n",
       "    <tr>\n",
       "      <th>LSTM</th>\n",
       "      <td>75.853018</td>\n",
       "      <td>0.758485</td>\n",
       "      <td>0.758530</td>\n",
       "      <td>0.757313</td>\n",
       "    </tr>\n",
       "    <tr>\n",
       "      <th>GRU</th>\n",
       "      <td>76.509186</td>\n",
       "      <td>0.765079</td>\n",
       "      <td>0.765092</td>\n",
       "      <td>0.763960</td>\n",
       "    </tr>\n",
       "    <tr>\n",
       "      <th>Bidirectional</th>\n",
       "      <td>77.427822</td>\n",
       "      <td>0.774220</td>\n",
       "      <td>0.774278</td>\n",
       "      <td>0.773335</td>\n",
       "    </tr>\n",
       "    <tr>\n",
       "      <th>Conv1D</th>\n",
       "      <td>75.590551</td>\n",
       "      <td>0.755648</td>\n",
       "      <td>0.755906</td>\n",
       "      <td>0.754885</td>\n",
       "    </tr>\n",
       "    <tr>\n",
       "      <th>TF Sentence Encoder</th>\n",
       "      <td>80.446194</td>\n",
       "      <td>0.809626</td>\n",
       "      <td>0.804462</td>\n",
       "      <td>0.804297</td>\n",
       "    </tr>\n",
       "    <tr>\n",
       "      <th>TF 10 Percent Data</th>\n",
       "      <td>78.740157</td>\n",
       "      <td>0.792322</td>\n",
       "      <td>0.787402</td>\n",
       "      <td>0.784411</td>\n",
       "    </tr>\n",
       "  </tbody>\n",
       "</table>\n",
       "</div>"
      ],
      "text/plain": [
       "                     accurracy  precision    recall        f1\n",
       "Baseline             79.265092   0.811139  0.792651  0.786219\n",
       "Simple Dense         78.608924   0.790328  0.786089  0.783297\n",
       "LSTM                 75.853018   0.758485  0.758530  0.757313\n",
       "GRU                  76.509186   0.765079  0.765092  0.763960\n",
       "Bidirectional        77.427822   0.774220  0.774278  0.773335\n",
       "Conv1D               75.590551   0.755648  0.755906  0.754885\n",
       "TF Sentence Encoder  80.446194   0.809626  0.804462  0.804297\n",
       "TF 10 Percent Data   78.740157   0.792322  0.787402  0.784411"
      ]
     },
     "execution_count": 96,
     "metadata": {},
     "output_type": "execute_result"
    }
   ],
   "source": [
    "all_model_results = pd.DataFrame({\n",
    "    \"Baseline\": baseline_results,\n",
    "    'Simple Dense': model_1_results,\n",
    "    \"LSTM\": model_2_results,\n",
    "    \"GRU\": model_3_results,\n",
    "    \"Bidirectional\": model_4_results,\n",
    "    \"Conv1D\": model_5_results,\n",
    "    \"TF Sentence Encoder\": model_6_results,\n",
    "    \"TF 10 Percent Data\": model_7_results,\n",
    "})\n",
    "\n",
    "all_model_results = all_model_results.transpose()\n",
    "all_model_results"
   ]
  },
  {
   "cell_type": "code",
   "execution_count": 97,
   "metadata": {
    "execution": {
     "iopub.execute_input": "2023-10-04T07:57:03.676337Z",
     "iopub.status.busy": "2023-10-04T07:57:03.675889Z",
     "iopub.status.idle": "2023-10-04T07:57:03.684476Z",
     "shell.execute_reply": "2023-10-04T07:57:03.683141Z",
     "shell.execute_reply.started": "2023-10-04T07:57:03.676294Z"
    }
   },
   "outputs": [],
   "source": [
    "all_model_results[\"accurracy\"] = all_model_results[\"accurracy\"]/100"
   ]
  },
  {
   "cell_type": "code",
   "execution_count": 98,
   "metadata": {
    "execution": {
     "iopub.execute_input": "2023-10-04T07:57:03.687262Z",
     "iopub.status.busy": "2023-10-04T07:57:03.686204Z",
     "iopub.status.idle": "2023-10-04T07:57:04.140216Z",
     "shell.execute_reply": "2023-10-04T07:57:04.139084Z",
     "shell.execute_reply.started": "2023-10-04T07:57:03.687216Z"
    }
   },
   "outputs": [
    {
     "data": {
      "image/png": "[encoded data removed]",
      "text/plain": [
       "<Figure size 1000x700 with 1 Axes>"
      ]
     },
     "metadata": {},
     "output_type": "display_data"
    }
   ],
   "source": [
    "all_model_results.plot(kind=\"bar\", figsize=(10, 7)).legend(bbox_to_anchor=(1.0, 1.0));"
   ]
  },
  {
   "cell_type": "code",
   "execution_count": 99,
   "metadata": {
    "execution": {
     "iopub.execute_input": "2023-10-04T07:57:04.141886Z",
     "iopub.status.busy": "2023-10-04T07:57:04.141543Z",
     "iopub.status.idle": "2023-10-04T07:57:04.448061Z",
     "shell.execute_reply": "2023-10-04T07:57:04.446902Z",
     "shell.execute_reply.started": "2023-10-04T07:57:04.141856Z"
    }
   },
   "outputs": [
    {
     "data": {
      "image/png": "[encoded data removed]",
      "text/plain": [
       "<Figure size 1000x700 with 1 Axes>"
      ]
     },
     "metadata": {},
     "output_type": "display_data"
    }
   ],
   "source": [
    "all_model_results.sort_values(\"f1\", ascending=False)[\"f1\"].plot(kind=\"bar\", figsize=(10, 7));"
   ]
  },
  {
   "cell_type": "markdown",
   "metadata": {},
   "source": [
    "## Model Ensembling "
   ]
  },
  {
   "cell_type": "code",
   "execution_count": 100,
   "metadata": {
    "execution": {
     "iopub.execute_input": "2023-10-04T07:57:04.449628Z",
     "iopub.status.busy": "2023-10-04T07:57:04.449215Z",
     "iopub.status.idle": "2023-10-04T07:57:04.482558Z",
     "shell.execute_reply": "2023-10-04T07:57:04.481765Z",
     "shell.execute_reply.started": "2023-10-04T07:57:04.449589Z"
    }
   },
   "outputs": [
    {
     "data": {
      "text/plain": [
       "<tf.Tensor: shape=(20,), dtype=float32, numpy=\n",
       "array([0., 1., 1., 0., 0., 1., 1., 1., 1., 0., 0., 1., 0., 1., 0., 0., 0.,\n",
       "       0., 0., 1.], dtype=float32)>"
      ]
     },
     "execution_count": 100,
     "metadata": {},
     "output_type": "execute_result"
    }
   ],
   "source": [
    "baseline_pred_probs = np.max(model_0.predict_proba(val_sentences), axis = 1)\n",
    "\n",
    "#combining prediction probabilities\n",
    "combined_pred_probs = baseline_pred_probs + tf.squeeze(model_2_pred_probs, axis=1) + tf.squeeze(model_6_pred_probs)\n",
    "\n",
    "#averaging the prediction\n",
    "combined_preds = tf.round(combined_pred_probs/3)\n",
    "combined_preds[:20]                       "
   ]
  },
  {
   "cell_type": "code",
   "execution_count": 101,
   "metadata": {
    "execution": {
     "iopub.execute_input": "2023-10-04T07:57:04.484697Z",
     "iopub.status.busy": "2023-10-04T07:57:04.483904Z",
     "iopub.status.idle": "2023-10-04T07:57:04.494764Z",
     "shell.execute_reply": "2023-10-04T07:57:04.49394Z",
     "shell.execute_reply.started": "2023-10-04T07:57:04.48465Z"
    }
   },
   "outputs": [
    {
     "data": {
      "text/plain": [
       "{'accurracy': 77.55905511811024,\n",
       " 'precision': 0.7753235243028463,\n",
       " 'recall': 0.7755905511811023,\n",
       " 'f1': 0.7753912286736995}"
      ]
     },
     "execution_count": 101,
     "metadata": {},
     "output_type": "execute_result"
    }
   ],
   "source": [
    "ensemble_results = calculate_results(val_labels, combined_preds)\n",
    "ensemble_results"
   ]
  },
  {
   "cell_type": "code",
   "execution_count": 102,
   "metadata": {
    "execution": {
     "iopub.execute_input": "2023-10-04T07:57:04.496892Z",
     "iopub.status.busy": "2023-10-04T07:57:04.495999Z",
     "iopub.status.idle": "2023-10-04T07:57:04.508299Z",
     "shell.execute_reply": "2023-10-04T07:57:04.507049Z",
     "shell.execute_reply.started": "2023-10-04T07:57:04.496855Z"
    }
   },
   "outputs": [
    {
     "data": {
      "text/plain": [
       "0.7755905511811023"
      ]
     },
     "execution_count": 102,
     "metadata": {},
     "output_type": "execute_result"
    }
   ],
   "source": [
    "ensemble_results[\"accurracy\"] = ensemble_results[\"accurracy\"] / 100\n",
    "ensemble_results[\"accurracy\"] "
   ]
  },
  {
   "cell_type": "code",
   "execution_count": 103,
   "metadata": {
    "execution": {
     "iopub.execute_input": "2023-10-04T07:57:04.510976Z",
     "iopub.status.busy": "2023-10-04T07:57:04.509742Z",
     "iopub.status.idle": "2023-10-04T07:57:04.524677Z",
     "shell.execute_reply": "2023-10-04T07:57:04.523591Z",
     "shell.execute_reply.started": "2023-10-04T07:57:04.510933Z"
    }
   },
   "outputs": [],
   "source": [
    "all_model_results.loc[\"Ensemble Results\"] = ensemble_results"
   ]
  },
  {
   "cell_type": "code",
   "execution_count": 104,
   "metadata": {
    "execution": {
     "iopub.execute_input": "2023-10-04T07:57:04.527415Z",
     "iopub.status.busy": "2023-10-04T07:57:04.526202Z",
     "iopub.status.idle": "2023-10-04T07:57:04.547694Z",
     "shell.execute_reply": "2023-10-04T07:57:04.546558Z",
     "shell.execute_reply.started": "2023-10-04T07:57:04.527378Z"
    }
   },
   "outputs": [
    {
     "data": {
      "text/html": [
       "<div>\n",
       "<style scoped>\n",
       "    .dataframe tbody tr th:only-of-type {\n",
       "        vertical-align: middle;\n",
       "    }\n",
       "\n",
       "    .dataframe tbody tr th {\n",
       "        vertical-align: top;\n",
       "    }\n",
       "\n",
       "    .dataframe thead th {\n",
       "        text-align: right;\n",
       "    }\n",
       "</style>\n",
       "<table border=\"1\" class=\"dataframe\">\n",
       "  <thead>\n",
       "    <tr style=\"text-align: right;\">\n",
       "      <th></th>\n",
       "      <th>accurracy</th>\n",
       "      <th>precision</th>\n",
       "      <th>recall</th>\n",
       "      <th>f1</th>\n",
       "    </tr>\n",
       "  </thead>\n",
       "  <tbody>\n",
       "    <tr>\n",
       "      <th>Baseline</th>\n",
       "      <td>0.792651</td>\n",
       "      <td>0.811139</td>\n",
       "      <td>0.792651</td>\n",
       "      <td>0.786219</td>\n",
       "    </tr>\n",
       "    <tr>\n",
       "      <th>Simple Dense</th>\n",
       "      <td>0.786089</td>\n",
       "      <td>0.790328</td>\n",
       "      <td>0.786089</td>\n",
       "      <td>0.783297</td>\n",
       "    </tr>\n",
       "    <tr>\n",
       "      <th>LSTM</th>\n",
       "      <td>0.758530</td>\n",
       "      <td>0.758485</td>\n",
       "      <td>0.758530</td>\n",
       "      <td>0.757313</td>\n",
       "    </tr>\n",
       "    <tr>\n",
       "      <th>GRU</th>\n",
       "      <td>0.765092</td>\n",
       "      <td>0.765079</td>\n",
       "      <td>0.765092</td>\n",
       "      <td>0.763960</td>\n",
       "    </tr>\n",
       "    <tr>\n",
       "      <th>Bidirectional</th>\n",
       "      <td>0.774278</td>\n",
       "      <td>0.774220</td>\n",
       "      <td>0.774278</td>\n",
       "      <td>0.773335</td>\n",
       "    </tr>\n",
       "    <tr>\n",
       "      <th>Conv1D</th>\n",
       "      <td>0.755906</td>\n",
       "      <td>0.755648</td>\n",
       "      <td>0.755906</td>\n",
       "      <td>0.754885</td>\n",
       "    </tr>\n",
       "    <tr>\n",
       "      <th>TF Sentence Encoder</th>\n",
       "      <td>0.804462</td>\n",
       "      <td>0.809626</td>\n",
       "      <td>0.804462</td>\n",
       "      <td>0.804297</td>\n",
       "    </tr>\n",
       "    <tr>\n",
       "      <th>TF 10 Percent Data</th>\n",
       "      <td>0.787402</td>\n",
       "      <td>0.792322</td>\n",
       "      <td>0.787402</td>\n",
       "      <td>0.784411</td>\n",
       "    </tr>\n",
       "    <tr>\n",
       "      <th>Ensemble Results</th>\n",
       "      <td>0.775591</td>\n",
       "      <td>0.775324</td>\n",
       "      <td>0.775591</td>\n",
       "      <td>0.775391</td>\n",
       "    </tr>\n",
       "  </tbody>\n",
       "</table>\n",
       "</div>"
      ],
      "text/plain": [
       "                     accurracy  precision    recall        f1\n",
       "Baseline              0.792651   0.811139  0.792651  0.786219\n",
       "Simple Dense          0.786089   0.790328  0.786089  0.783297\n",
       "LSTM                  0.758530   0.758485  0.758530  0.757313\n",
       "GRU                   0.765092   0.765079  0.765092  0.763960\n",
       "Bidirectional         0.774278   0.774220  0.774278  0.773335\n",
       "Conv1D                0.755906   0.755648  0.755906  0.754885\n",
       "TF Sentence Encoder   0.804462   0.809626  0.804462  0.804297\n",
       "TF 10 Percent Data    0.787402   0.792322  0.787402  0.784411\n",
       "Ensemble Results      0.775591   0.775324  0.775591  0.775391"
      ]
     },
     "execution_count": 104,
     "metadata": {},
     "output_type": "execute_result"
    }
   ],
   "source": [
    "all_model_results"
   ]
  },
  {
   "cell_type": "code",
   "execution_count": 105,
   "metadata": {
    "execution": {
     "iopub.execute_input": "2023-10-04T07:57:04.550023Z",
     "iopub.status.busy": "2023-10-04T07:57:04.549431Z",
     "iopub.status.idle": "2023-10-04T07:57:04.571483Z",
     "shell.execute_reply": "2023-10-04T07:57:04.57021Z",
     "shell.execute_reply.started": "2023-10-04T07:57:04.549991Z"
    }
   },
   "outputs": [
    {
     "data": {
      "text/html": [
       "<div>\n",
       "<style scoped>\n",
       "    .dataframe tbody tr th:only-of-type {\n",
       "        vertical-align: middle;\n",
       "    }\n",
       "\n",
       "    .dataframe tbody tr th {\n",
       "        vertical-align: top;\n",
       "    }\n",
       "\n",
       "    .dataframe thead th {\n",
       "        text-align: right;\n",
       "    }\n",
       "</style>\n",
       "<table border=\"1\" class=\"dataframe\">\n",
       "  <thead>\n",
       "    <tr style=\"text-align: right;\">\n",
       "      <th></th>\n",
       "      <th>text</th>\n",
       "      <th>target</th>\n",
       "      <th>pred</th>\n",
       "      <th>pred_prob</th>\n",
       "    </tr>\n",
       "  </thead>\n",
       "  <tbody>\n",
       "    <tr>\n",
       "      <th>0</th>\n",
       "      <td>DFR EP016 Monthly Meltdown - On Dnbheaven 2015...</td>\n",
       "      <td>0</td>\n",
       "      <td>0.0</td>\n",
       "      <td>0.421230</td>\n",
       "    </tr>\n",
       "    <tr>\n",
       "      <th>1</th>\n",
       "      <td>FedEx no longer to transport bioterror germs i...</td>\n",
       "      <td>0</td>\n",
       "      <td>1.0</td>\n",
       "      <td>0.690094</td>\n",
       "    </tr>\n",
       "    <tr>\n",
       "      <th>2</th>\n",
       "      <td>Gunmen kill four in El Salvador bus attack: Su...</td>\n",
       "      <td>1</td>\n",
       "      <td>1.0</td>\n",
       "      <td>0.955413</td>\n",
       "    </tr>\n",
       "    <tr>\n",
       "      <th>3</th>\n",
       "      <td>@camilacabello97 Internally and externally scr...</td>\n",
       "      <td>1</td>\n",
       "      <td>0.0</td>\n",
       "      <td>0.157256</td>\n",
       "    </tr>\n",
       "    <tr>\n",
       "      <th>4</th>\n",
       "      <td>Radiation emergency #preparedness starts with ...</td>\n",
       "      <td>1</td>\n",
       "      <td>0.0</td>\n",
       "      <td>0.463609</td>\n",
       "    </tr>\n",
       "  </tbody>\n",
       "</table>\n",
       "</div>"
      ],
      "text/plain": [
       "                                                text  target  pred  pred_prob\n",
       "0  DFR EP016 Monthly Meltdown - On Dnbheaven 2015...       0   0.0   0.421230\n",
       "1  FedEx no longer to transport bioterror germs i...       0   1.0   0.690094\n",
       "2  Gunmen kill four in El Salvador bus attack: Su...       1   1.0   0.955413\n",
       "3  @camilacabello97 Internally and externally scr...       1   0.0   0.157256\n",
       "4  Radiation emergency #preparedness starts with ...       1   0.0   0.463609"
      ]
     },
     "execution_count": 105,
     "metadata": {},
     "output_type": "execute_result"
    }
   ],
   "source": [
    "val_df = pd.DataFrame({\"text\": val_sentences,\n",
    "                       \"target\": val_labels,\n",
    "                       \"pred\": model_7_preds,\n",
    "                       \"pred_prob\": tf.squeeze(model_7_pred_probs)})\n",
    "val_df.head()"
   ]
  },
  {
   "cell_type": "code",
   "execution_count": 106,
   "metadata": {
    "execution": {
     "iopub.execute_input": "2023-10-04T07:57:04.573655Z",
     "iopub.status.busy": "2023-10-04T07:57:04.572721Z",
     "iopub.status.idle": "2023-10-04T07:57:04.58736Z",
     "shell.execute_reply": "2023-10-04T07:57:04.586481Z",
     "shell.execute_reply.started": "2023-10-04T07:57:04.573623Z"
    }
   },
   "outputs": [
    {
     "data": {
      "text/html": [
       "<div>\n",
       "<style scoped>\n",
       "    .dataframe tbody tr th:only-of-type {\n",
       "        vertical-align: middle;\n",
       "    }\n",
       "\n",
       "    .dataframe tbody tr th {\n",
       "        vertical-align: top;\n",
       "    }\n",
       "\n",
       "    .dataframe thead th {\n",
       "        text-align: right;\n",
       "    }\n",
       "</style>\n",
       "<table border=\"1\" class=\"dataframe\">\n",
       "  <thead>\n",
       "    <tr style=\"text-align: right;\">\n",
       "      <th></th>\n",
       "      <th>text</th>\n",
       "      <th>target</th>\n",
       "      <th>pred</th>\n",
       "      <th>pred_prob</th>\n",
       "    </tr>\n",
       "  </thead>\n",
       "  <tbody>\n",
       "    <tr>\n",
       "      <th>49</th>\n",
       "      <td>@madonnamking RSPCA site multiple 7 story high...</td>\n",
       "      <td>0</td>\n",
       "      <td>1.0</td>\n",
       "      <td>0.853491</td>\n",
       "    </tr>\n",
       "    <tr>\n",
       "      <th>285</th>\n",
       "      <td>@Azimel 'Screaming Mad Scientist deceased afte...</td>\n",
       "      <td>0</td>\n",
       "      <td>1.0</td>\n",
       "      <td>0.783376</td>\n",
       "    </tr>\n",
       "    <tr>\n",
       "      <th>759</th>\n",
       "      <td>FedEx will no longer transport bioterror patho...</td>\n",
       "      <td>0</td>\n",
       "      <td>1.0</td>\n",
       "      <td>0.758002</td>\n",
       "    </tr>\n",
       "    <tr>\n",
       "      <th>119</th>\n",
       "      <td>@freefromwolves GodsLove &amp;amp; #thankU brother...</td>\n",
       "      <td>0</td>\n",
       "      <td>1.0</td>\n",
       "      <td>0.755146</td>\n",
       "    </tr>\n",
       "    <tr>\n",
       "      <th>567</th>\n",
       "      <td>@RebeccaforReal accepts Wisconsin Emergency Re...</td>\n",
       "      <td>0</td>\n",
       "      <td>1.0</td>\n",
       "      <td>0.747523</td>\n",
       "    </tr>\n",
       "    <tr>\n",
       "      <th>440</th>\n",
       "      <td>Do you have a plan? Emergency Preparedness for...</td>\n",
       "      <td>0</td>\n",
       "      <td>1.0</td>\n",
       "      <td>0.734152</td>\n",
       "    </tr>\n",
       "    <tr>\n",
       "      <th>109</th>\n",
       "      <td>[55436] 1950 LIONEL TRAINS SMOKE LOCOMOTIVES W...</td>\n",
       "      <td>0</td>\n",
       "      <td>1.0</td>\n",
       "      <td>0.732637</td>\n",
       "    </tr>\n",
       "    <tr>\n",
       "      <th>303</th>\n",
       "      <td>Trafford Centre film fans angry after Odeon ci...</td>\n",
       "      <td>0</td>\n",
       "      <td>1.0</td>\n",
       "      <td>0.728534</td>\n",
       "    </tr>\n",
       "    <tr>\n",
       "      <th>549</th>\n",
       "      <td>Day 2. Liquidation of emergency at chemical ob...</td>\n",
       "      <td>0</td>\n",
       "      <td>1.0</td>\n",
       "      <td>0.708768</td>\n",
       "    </tr>\n",
       "    <tr>\n",
       "      <th>209</th>\n",
       "      <td>Ashes 2015: AustraliaÛªs collapse at Trent Br...</td>\n",
       "      <td>0</td>\n",
       "      <td>1.0</td>\n",
       "      <td>0.695388</td>\n",
       "    </tr>\n",
       "  </tbody>\n",
       "</table>\n",
       "</div>"
      ],
      "text/plain": [
       "                                                  text  target  pred  \\\n",
       "49   @madonnamking RSPCA site multiple 7 story high...       0   1.0   \n",
       "285  @Azimel 'Screaming Mad Scientist deceased afte...       0   1.0   \n",
       "759  FedEx will no longer transport bioterror patho...       0   1.0   \n",
       "119  @freefromwolves GodsLove &amp; #thankU brother...       0   1.0   \n",
       "567  @RebeccaforReal accepts Wisconsin Emergency Re...       0   1.0   \n",
       "440  Do you have a plan? Emergency Preparedness for...       0   1.0   \n",
       "109  [55436] 1950 LIONEL TRAINS SMOKE LOCOMOTIVES W...       0   1.0   \n",
       "303  Trafford Centre film fans angry after Odeon ci...       0   1.0   \n",
       "549  Day 2. Liquidation of emergency at chemical ob...       0   1.0   \n",
       "209  Ashes 2015: AustraliaÛªs collapse at Trent Br...       0   1.0   \n",
       "\n",
       "     pred_prob  \n",
       "49    0.853491  \n",
       "285   0.783376  \n",
       "759   0.758002  \n",
       "119   0.755146  \n",
       "567   0.747523  \n",
       "440   0.734152  \n",
       "109   0.732637  \n",
       "303   0.728534  \n",
       "549   0.708768  \n",
       "209   0.695388  "
      ]
     },
     "execution_count": 106,
     "metadata": {},
     "output_type": "execute_result"
    }
   ],
   "source": [
    "# most wronged predictions\n",
    "most_wrong = val_df[val_df[\"target\"] != val_df[\"pred\"]].sort_values(\"pred_prob\", ascending=False)\n",
    "most_wrong[:10]"
   ]
  },
  {
   "cell_type": "code",
   "execution_count": 107,
   "metadata": {
    "execution": {
     "iopub.execute_input": "2023-10-04T07:57:04.58905Z",
     "iopub.status.busy": "2023-10-04T07:57:04.588298Z",
     "iopub.status.idle": "2023-10-04T07:57:04.603282Z",
     "shell.execute_reply": "2023-10-04T07:57:04.602318Z",
     "shell.execute_reply.started": "2023-10-04T07:57:04.589018Z"
    }
   },
   "outputs": [
    {
     "name": "stdout",
     "output_type": "stream",
     "text": [
      "Target: 0, Pred: 1, Prob: 0.853491485118866\n",
      "Text:\n",
      "@madonnamking RSPCA site multiple 7 story high rise buildings next to low density character residential in an area that floods\n",
      "\n",
      "----\n",
      "\n",
      "Target: 0, Pred: 1, Prob: 0.7833763957023621\n",
      "Text:\n",
      "@Azimel 'Screaming Mad Scientist deceased after tumbling over heels and falling into sinkhole during investigation'\n",
      "\n",
      "----\n",
      "\n",
      "Target: 0, Pred: 1, Prob: 0.758001983165741\n",
      "Text:\n",
      "FedEx will no longer transport bioterror pathogens in wake of anthrax lab mishaps http://t.co/lHpgxc4b8J\n",
      "\n",
      "----\n",
      "\n",
      "Target: 0, Pred: 1, Prob: 0.755146324634552\n",
      "Text:\n",
      "@freefromwolves GodsLove &amp; #thankU brother Danny for RT of NEW VIDEO http://t.co/cybKsXHF7d The Coming Apocalyptic US Earthquake &amp; Tsunami\n",
      "\n",
      "----\n",
      "\n",
      "Target: 0, Pred: 1, Prob: 0.747523307800293\n",
      "Text:\n",
      "@RebeccaforReal accepts Wisconsin Emergency Response Plan on behalf of @GovWalker #nbc15 http://t.co/Pis0aiVRbR\n",
      "\n",
      "----\n",
      "\n",
      "Target: 0, Pred: 1, Prob: 0.7341524958610535\n",
      "Text:\n",
      "Do you have a plan? Emergency Preparedness for #Families of\n",
      "Children with Special Needs  http://t.co/RdOVqaUAx5  #autism #specialneeds\n",
      "\n",
      "----\n",
      "\n",
      "Target: 0, Pred: 1, Prob: 0.7326365113258362\n",
      "Text:\n",
      "[55436] 1950 LIONEL TRAINS SMOKE LOCOMOTIVES WITH MAGNE-TRACTION INSTRUCTIONS http://t.co/xEZBs3sq0y http://t.co/C2x0QoKGlY\n",
      "\n",
      "----\n",
      "\n",
      "Target: 0, Pred: 1, Prob: 0.7285341620445251\n",
      "Text:\n",
      "Trafford Centre film fans angry after Odeon cinema evacuated following false fire alarm   http://t.co/6GLDwx71DA\n",
      "\n",
      "----\n",
      "\n",
      "Target: 0, Pred: 1, Prob: 0.7087676525115967\n",
      "Text:\n",
      "Day 2. Liquidation of emergency at chemical object. #USAR2015 #USAR15 #RUOR #??????????? http://t.co/gGTmDqUdDo\n",
      "\n",
      "----\n",
      "\n",
      "Target: 0, Pred: 1, Prob: 0.6953883767127991\n",
      "Text:\n",
      "Ashes 2015: AustraliaÛªs collapse at Trent Bridge among worst in history: England bundled out Australia for 60 ... http://t.co/t5TrhjUAU0\n",
      "\n",
      "----\n",
      "\n"
     ]
    }
   ],
   "source": [
    "# False positives Most Wrong\n",
    "for row in most_wrong[:10].itertuples():\n",
    "    _, text, target, pred, prob = row\n",
    "    print(f\"Target: {target}, Pred: {int(pred)}, Prob: {prob}\")\n",
    "    print(f\"Text:\\n{text}\\n\")\n",
    "    print(\"----\\n\")"
   ]
  },
  {
   "cell_type": "code",
   "execution_count": 108,
   "metadata": {
    "execution": {
     "iopub.execute_input": "2023-10-04T07:57:04.605006Z",
     "iopub.status.busy": "2023-10-04T07:57:04.604678Z",
     "iopub.status.idle": "2023-10-04T07:57:04.618719Z",
     "shell.execute_reply": "2023-10-04T07:57:04.617669Z",
     "shell.execute_reply.started": "2023-10-04T07:57:04.604978Z"
    }
   },
   "outputs": [
    {
     "name": "stdout",
     "output_type": "stream",
     "text": [
      "Target: 1, Pred: 0, Prob: 0.08166284114122391\n",
      "Text:\n",
      "@BoyInAHorsemask its a panda trapped in a dogs body\n",
      "\n",
      "----\n",
      "\n",
      "Target: 1, Pred: 0, Prob: 0.07470449805259705\n",
      "Text:\n",
      "Rand Paul's Debate Strategy 'demolish Some other bad ideas out there or point out maybe that there are some em... http://t.co/qzdqRBr4Lh\n",
      "\n",
      "----\n",
      "\n",
      "Target: 1, Pred: 0, Prob: 0.07203110307455063\n",
      "Text:\n",
      "@SoonerMagic_ I mean I'm a fan but I don't need a girl sounding off like a damn siren\n",
      "\n",
      "----\n",
      "\n",
      "Target: 1, Pred: 0, Prob: 0.06648256629705429\n",
      "Text:\n",
      "Indeed!! I am fully aware of that battle! I support you in that fight!!  https://t.co/MctJnZX4H8\n",
      "\n",
      "----\n",
      "\n",
      "Target: 1, Pred: 0, Prob: 0.05570875480771065\n",
      "Text:\n",
      "So this storm just came out of no where. .fuck me its cool\n",
      "\n",
      "----\n",
      "\n",
      "Target: 1, Pred: 0, Prob: 0.055599987506866455\n",
      "Text:\n",
      "@Zak_Bagans this is Sabrina my dad rescued her from some dude who kept her in a cage. We've had her since I was 4 http://t.co/1k2PhQcuW8\n",
      "\n",
      "----\n",
      "\n",
      "Target: 1, Pred: 0, Prob: 0.049988579005002975\n",
      "Text:\n",
      "Ron &amp; Fez - Dave's High School Crush https://t.co/aN3W16c8F6 via @YouTube\n",
      "\n",
      "----\n",
      "\n",
      "Target: 1, Pred: 0, Prob: 0.04368055984377861\n",
      "Text:\n",
      "'The way you move is like a full on rainstorm and I'm a house of cards'\n",
      "\n",
      "----\n",
      "\n",
      "Target: 1, Pred: 0, Prob: 0.01805052161216736\n",
      "Text:\n",
      "Reddit Will Now QuarantineÛ_ http://t.co/pkUAMXw6pm #onlinecommunities #reddit #amageddon #freespeech #Business http://t.co/PAWvNJ4sAP\n",
      "\n",
      "----\n",
      "\n",
      "Target: 1, Pred: 0, Prob: 0.0\n",
      "Text:\n",
      "I get to smoke my shit in peace\n",
      "\n",
      "----\n",
      "\n"
     ]
    }
   ],
   "source": [
    "# false negatives\n",
    "for row in most_wrong[-10:].itertuples():\n",
    "    _, text, target, pred, prob = row\n",
    "    print(f\"Target: {target}, Pred: {int(pred)}, Prob: {prob}\")\n",
    "    print(f\"Text:\\n{text}\\n\")\n",
    "    print(\"----\\n\")"
   ]
  },
  {
   "cell_type": "markdown",
   "metadata": {},
   "source": [
    "## Making Prediction On Test Data"
   ]
  },
  {
   "cell_type": "code",
   "execution_count": 109,
   "metadata": {
    "execution": {
     "iopub.execute_input": "2023-10-04T07:57:04.621425Z",
     "iopub.status.busy": "2023-10-04T07:57:04.620495Z",
     "iopub.status.idle": "2023-10-04T07:57:04.637403Z",
     "shell.execute_reply": "2023-10-04T07:57:04.63616Z",
     "shell.execute_reply.started": "2023-10-04T07:57:04.621382Z"
    }
   },
   "outputs": [
    {
     "data": {
      "text/html": [
       "<div>\n",
       "<style scoped>\n",
       "    .dataframe tbody tr th:only-of-type {\n",
       "        vertical-align: middle;\n",
       "    }\n",
       "\n",
       "    .dataframe tbody tr th {\n",
       "        vertical-align: top;\n",
       "    }\n",
       "\n",
       "    .dataframe thead th {\n",
       "        text-align: right;\n",
       "    }\n",
       "</style>\n",
       "<table border=\"1\" class=\"dataframe\">\n",
       "  <thead>\n",
       "    <tr style=\"text-align: right;\">\n",
       "      <th></th>\n",
       "      <th>id</th>\n",
       "      <th>keyword</th>\n",
       "      <th>location</th>\n",
       "      <th>text</th>\n",
       "    </tr>\n",
       "  </thead>\n",
       "  <tbody>\n",
       "    <tr>\n",
       "      <th>0</th>\n",
       "      <td>0</td>\n",
       "      <td>NaN</td>\n",
       "      <td>NaN</td>\n",
       "      <td>Just happened a terrible car crash</td>\n",
       "    </tr>\n",
       "    <tr>\n",
       "      <th>1</th>\n",
       "      <td>2</td>\n",
       "      <td>NaN</td>\n",
       "      <td>NaN</td>\n",
       "      <td>Heard about #earthquake is different cities, s...</td>\n",
       "    </tr>\n",
       "    <tr>\n",
       "      <th>2</th>\n",
       "      <td>3</td>\n",
       "      <td>NaN</td>\n",
       "      <td>NaN</td>\n",
       "      <td>there is a forest fire at spot pond, geese are...</td>\n",
       "    </tr>\n",
       "    <tr>\n",
       "      <th>3</th>\n",
       "      <td>9</td>\n",
       "      <td>NaN</td>\n",
       "      <td>NaN</td>\n",
       "      <td>Apocalypse lighting. #Spokane #wildfires</td>\n",
       "    </tr>\n",
       "    <tr>\n",
       "      <th>4</th>\n",
       "      <td>11</td>\n",
       "      <td>NaN</td>\n",
       "      <td>NaN</td>\n",
       "      <td>Typhoon Soudelor kills 28 in China and Taiwan</td>\n",
       "    </tr>\n",
       "  </tbody>\n",
       "</table>\n",
       "</div>"
      ],
      "text/plain": [
       "   id keyword location                                               text\n",
       "0   0     NaN      NaN                 Just happened a terrible car crash\n",
       "1   2     NaN      NaN  Heard about #earthquake is different cities, s...\n",
       "2   3     NaN      NaN  there is a forest fire at spot pond, geese are...\n",
       "3   9     NaN      NaN           Apocalypse lighting. #Spokane #wildfires\n",
       "4  11     NaN      NaN      Typhoon Soudelor kills 28 in China and Taiwan"
      ]
     },
     "execution_count": 109,
     "metadata": {},
     "output_type": "execute_result"
    }
   ],
   "source": [
    "test_df.head()"
   ]
  },
  {
   "cell_type": "code",
   "execution_count": 110,
   "metadata": {
    "execution": {
     "iopub.execute_input": "2023-10-04T07:57:04.639423Z",
     "iopub.status.busy": "2023-10-04T07:57:04.639114Z",
     "iopub.status.idle": "2023-10-04T07:57:05.536766Z",
     "shell.execute_reply": "2023-10-04T07:57:05.535646Z",
     "shell.execute_reply.started": "2023-10-04T07:57:04.639397Z"
    }
   },
   "outputs": [
    {
     "name": "stdout",
     "output_type": "stream",
     "text": [
      "1/1 [==============================] - 0s 43ms/step\n",
      "Pred: 0, Prob: 0.10197276622056961\n",
      "Text:\n",
      "SCREAMING BECAUSE 5SOS IS IN TX\n",
      "@5SOS\n",
      "\n",
      "----\n",
      "\n",
      "1/1 [==============================] - 0s 37ms/step\n",
      "Pred: 0, Prob: 0.10322122275829315\n",
      "Text:\n",
      "I just rescued you in MGS Ground Zeroes @HIDEO_KOJIMA_EN  haha. Amazing...Sept 1st cant come soon enough :)\n",
      "\n",
      "----\n",
      "\n",
      "1/1 [==============================] - 0s 35ms/step\n",
      "Pred: 0, Prob: 0.14072027802467346\n",
      "Text:\n",
      "13 reasons why we love women in the military   - lulgzimbestpicts http://t.co/BcBfCStZXh http://t.co/ViK72Id8Zu\n",
      "\n",
      "----\n",
      "\n",
      "1/1 [==============================] - 0s 52ms/step\n",
      "Pred: 0, Prob: 0.0\n",
      "Text:\n",
      "@_Gags_ My Mommy will be devastated lol #NoMorePod\n",
      "\n",
      "----\n",
      "\n",
      "1/1 [==============================] - 0s 26ms/step\n",
      "Pred: 1, Prob: 0.9150083661079407\n",
      "Text:\n",
      "Here's a quick timelapse I made of the Finger Rock Fire last night from about 9PM - 1AM. Check it out! #fingerrockfire #wildfire #catalinas\n",
      "\n",
      "----\n",
      "\n",
      "1/1 [==============================] - 0s 32ms/step\n",
      "Pred: 1, Prob: 0.5600746273994446\n",
      "Text:\n",
      "Ignition Knock (Detonation) Sensor-Senso BECK/ARNLEY 158-1028 http://t.co/YszIBvj3cs http://t.co/C9t0cGtjFw\n",
      "\n",
      "----\n",
      "\n",
      "1/1 [==============================] - 0s 37ms/step\n",
      "Pred: 0, Prob: 0.024867594242095947\n",
      "Text:\n",
      "Emergency hop kit? ;) jk  https://t.co/MkbQ2YE4Wq\n",
      "\n",
      "----\n",
      "\n",
      "1/1 [==============================] - 0s 54ms/step\n",
      "Pred: 0, Prob: 0.2935025095939636\n",
      "Text:\n",
      "Your brain is particularly vulnerable to trauma at two distinct ages http://t.co/RAv8iMVvZB via @qz\n",
      "\n",
      "----\n",
      "\n",
      "1/1 [==============================] - 0s 28ms/step\n",
      "Pred: 1, Prob: 0.7155174612998962\n",
      "Text:\n",
      "El Monte attempts to shed reputation of delinquency in drought - The Pasadena Star http://t.co/2wGOUCOHOu\n",
      "\n",
      "----\n",
      "\n",
      "1/1 [==============================] - 0s 38ms/step\n",
      "Pred: 0, Prob: 0.0\n",
      "Text:\n",
      "Last week we had a blast hosting Dinner &amp; a Movie Night with 'Wreck-It Ralph' on @FtCarsonPAO! @carsonmwr #TBT http://t.co/tUYPxEoBQa\n",
      "\n",
      "----\n",
      "\n"
     ]
    }
   ],
   "source": [
    "# making prediction on test data\n",
    "test_sentences = test_df[\"text\"].to_list()\n",
    "test_samples = random.sample(test_sentences, 10)\n",
    "\n",
    "for test_sample in test_samples:\n",
    "    pred_prob = tf.squeeze(model_6.predict([test_sample]))\n",
    "    pred = tf.round(pred_prob)\n",
    "    print(f\"Pred: {int(pred)}, Prob: {pred_prob}\")\n",
    "    print(f\"Text:\\n{test_sample}\\n\")\n",
    "    print(\"----\\n\")\n",
    "  "
   ]
  },
  {
   "cell_type": "code",
   "execution_count": 111,
   "metadata": {
    "execution": {
     "iopub.execute_input": "2023-10-04T07:57:05.538942Z",
     "iopub.status.busy": "2023-10-04T07:57:05.538583Z",
     "iopub.status.idle": "2023-10-04T07:57:05.54966Z",
     "shell.execute_reply": "2023-10-04T07:57:05.548357Z",
     "shell.execute_reply.started": "2023-10-04T07:57:05.538912Z"
    }
   },
   "outputs": [
    {
     "data": {
      "text/html": [
       "<div>\n",
       "<style scoped>\n",
       "    .dataframe tbody tr th:only-of-type {\n",
       "        vertical-align: middle;\n",
       "    }\n",
       "\n",
       "    .dataframe tbody tr th {\n",
       "        vertical-align: top;\n",
       "    }\n",
       "\n",
       "    .dataframe thead th {\n",
       "        text-align: right;\n",
       "    }\n",
       "</style>\n",
       "<table border=\"1\" class=\"dataframe\">\n",
       "  <thead>\n",
       "    <tr style=\"text-align: right;\">\n",
       "      <th></th>\n",
       "      <th>id</th>\n",
       "      <th>keyword</th>\n",
       "      <th>location</th>\n",
       "      <th>text</th>\n",
       "    </tr>\n",
       "  </thead>\n",
       "  <tbody>\n",
       "    <tr>\n",
       "      <th>0</th>\n",
       "      <td>0</td>\n",
       "      <td>NaN</td>\n",
       "      <td>NaN</td>\n",
       "      <td>Just happened a terrible car crash</td>\n",
       "    </tr>\n",
       "    <tr>\n",
       "      <th>1</th>\n",
       "      <td>2</td>\n",
       "      <td>NaN</td>\n",
       "      <td>NaN</td>\n",
       "      <td>Heard about #earthquake is different cities, s...</td>\n",
       "    </tr>\n",
       "    <tr>\n",
       "      <th>2</th>\n",
       "      <td>3</td>\n",
       "      <td>NaN</td>\n",
       "      <td>NaN</td>\n",
       "      <td>there is a forest fire at spot pond, geese are...</td>\n",
       "    </tr>\n",
       "    <tr>\n",
       "      <th>3</th>\n",
       "      <td>9</td>\n",
       "      <td>NaN</td>\n",
       "      <td>NaN</td>\n",
       "      <td>Apocalypse lighting. #Spokane #wildfires</td>\n",
       "    </tr>\n",
       "    <tr>\n",
       "      <th>4</th>\n",
       "      <td>11</td>\n",
       "      <td>NaN</td>\n",
       "      <td>NaN</td>\n",
       "      <td>Typhoon Soudelor kills 28 in China and Taiwan</td>\n",
       "    </tr>\n",
       "  </tbody>\n",
       "</table>\n",
       "</div>"
      ],
      "text/plain": [
       "   id keyword location                                               text\n",
       "0   0     NaN      NaN                 Just happened a terrible car crash\n",
       "1   2     NaN      NaN  Heard about #earthquake is different cities, s...\n",
       "2   3     NaN      NaN  there is a forest fire at spot pond, geese are...\n",
       "3   9     NaN      NaN           Apocalypse lighting. #Spokane #wildfires\n",
       "4  11     NaN      NaN      Typhoon Soudelor kills 28 in China and Taiwan"
      ]
     },
     "execution_count": 111,
     "metadata": {},
     "output_type": "execute_result"
    }
   ],
   "source": [
    "test_df.head()"
   ]
  },
  {
   "cell_type": "code",
   "execution_count": 112,
   "metadata": {
    "execution": {
     "iopub.execute_input": "2023-10-04T07:57:05.552189Z",
     "iopub.status.busy": "2023-10-04T07:57:05.551333Z",
     "iopub.status.idle": "2023-10-04T07:57:06.448969Z",
     "shell.execute_reply": "2023-10-04T07:57:06.448138Z",
     "shell.execute_reply.started": "2023-10-04T07:57:05.552158Z"
    }
   },
   "outputs": [
    {
     "name": "stdout",
     "output_type": "stream",
     "text": [
      "102/102 [==============================] - 1s 6ms/step\n"
     ]
    },
    {
     "data": {
      "text/plain": [
       "<tf.Tensor: shape=(10,), dtype=float32, numpy=\n",
       "array([0.5955067 , 0.91154635, 0.8219068 , 1.0291215 , 1.1504847 ,\n",
       "       0.54779464, 0.10661656, 0.        , 0.        , 0.09171779],\n",
       "      dtype=float32)>"
      ]
     },
     "execution_count": 112,
     "metadata": {},
     "output_type": "execute_result"
    }
   ],
   "source": [
    "pred_prob = tf.squeeze(model_6.predict(test_df[\"text\"].to_numpy()))\n",
    "pred = tf.round(pred_prob)\n",
    "pred_prob[:10]"
   ]
  },
  {
   "cell_type": "code",
   "execution_count": 113,
   "metadata": {
    "execution": {
     "iopub.execute_input": "2023-10-04T07:57:06.450572Z",
     "iopub.status.busy": "2023-10-04T07:57:06.450058Z",
     "iopub.status.idle": "2023-10-04T07:57:06.458051Z",
     "shell.execute_reply": "2023-10-04T07:57:06.456997Z",
     "shell.execute_reply.started": "2023-10-04T07:57:06.450535Z"
    }
   },
   "outputs": [
    {
     "data": {
      "text/plain": [
       "<tf.Tensor: shape=(10,), dtype=float32, numpy=array([1., 1., 1., 1., 1., 1., 0., 0., 0., 0.], dtype=float32)>"
      ]
     },
     "execution_count": 113,
     "metadata": {},
     "output_type": "execute_result"
    }
   ],
   "source": [
    "pred[:10]"
   ]
  },
  {
   "cell_type": "code",
   "execution_count": 114,
   "metadata": {
    "execution": {
     "iopub.execute_input": "2023-10-04T07:57:06.460116Z",
     "iopub.status.busy": "2023-10-04T07:57:06.459764Z",
     "iopub.status.idle": "2023-10-04T07:57:06.472534Z",
     "shell.execute_reply": "2023-10-04T07:57:06.471372Z",
     "shell.execute_reply.started": "2023-10-04T07:57:06.460087Z"
    }
   },
   "outputs": [],
   "source": [
    "test_data = test_df[:]"
   ]
  },
  {
   "cell_type": "code",
   "execution_count": 115,
   "metadata": {
    "execution": {
     "iopub.execute_input": "2023-10-04T08:01:17.700571Z",
     "iopub.status.busy": "2023-10-04T08:01:17.700213Z",
     "iopub.status.idle": "2023-10-04T08:01:17.7187Z",
     "shell.execute_reply": "2023-10-04T08:01:17.717404Z",
     "shell.execute_reply.started": "2023-10-04T08:01:17.700544Z"
    }
   },
   "outputs": [
    {
     "data": {
      "text/html": [
       "<div>\n",
       "<style scoped>\n",
       "    .dataframe tbody tr th:only-of-type {\n",
       "        vertical-align: middle;\n",
       "    }\n",
       "\n",
       "    .dataframe tbody tr th {\n",
       "        vertical-align: top;\n",
       "    }\n",
       "\n",
       "    .dataframe thead th {\n",
       "        text-align: right;\n",
       "    }\n",
       "</style>\n",
       "<table border=\"1\" class=\"dataframe\">\n",
       "  <thead>\n",
       "    <tr style=\"text-align: right;\">\n",
       "      <th></th>\n",
       "      <th>id</th>\n",
       "      <th>target</th>\n",
       "    </tr>\n",
       "  </thead>\n",
       "  <tbody>\n",
       "    <tr>\n",
       "      <th>0</th>\n",
       "      <td>0</td>\n",
       "      <td>1</td>\n",
       "    </tr>\n",
       "    <tr>\n",
       "      <th>1</th>\n",
       "      <td>2</td>\n",
       "      <td>1</td>\n",
       "    </tr>\n",
       "    <tr>\n",
       "      <th>2</th>\n",
       "      <td>3</td>\n",
       "      <td>1</td>\n",
       "    </tr>\n",
       "    <tr>\n",
       "      <th>3</th>\n",
       "      <td>9</td>\n",
       "      <td>1</td>\n",
       "    </tr>\n",
       "    <tr>\n",
       "      <th>4</th>\n",
       "      <td>11</td>\n",
       "      <td>1</td>\n",
       "    </tr>\n",
       "    <tr>\n",
       "      <th>...</th>\n",
       "      <td>...</td>\n",
       "      <td>...</td>\n",
       "    </tr>\n",
       "    <tr>\n",
       "      <th>3258</th>\n",
       "      <td>10861</td>\n",
       "      <td>1</td>\n",
       "    </tr>\n",
       "    <tr>\n",
       "      <th>3259</th>\n",
       "      <td>10865</td>\n",
       "      <td>1</td>\n",
       "    </tr>\n",
       "    <tr>\n",
       "      <th>3260</th>\n",
       "      <td>10868</td>\n",
       "      <td>1</td>\n",
       "    </tr>\n",
       "    <tr>\n",
       "      <th>3261</th>\n",
       "      <td>10874</td>\n",
       "      <td>0</td>\n",
       "    </tr>\n",
       "    <tr>\n",
       "      <th>3262</th>\n",
       "      <td>10875</td>\n",
       "      <td>1</td>\n",
       "    </tr>\n",
       "  </tbody>\n",
       "</table>\n",
       "<p>3263 rows × 2 columns</p>\n",
       "</div>"
      ],
      "text/plain": [
       "         id  target\n",
       "0         0       1\n",
       "1         2       1\n",
       "2         3       1\n",
       "3         9       1\n",
       "4        11       1\n",
       "...     ...     ...\n",
       "3258  10861       1\n",
       "3259  10865       1\n",
       "3260  10868       1\n",
       "3261  10874       0\n",
       "3262  10875       1\n",
       "\n",
       "[3263 rows x 2 columns]"
      ]
     },
     "execution_count": 115,
     "metadata": {},
     "output_type": "execute_result"
    }
   ],
   "source": [
    "submission = test_df[['id']].reset_index(drop=True)\n",
    "submission['target'] = tf.cast(pred, tf.int64)\n",
    "submission"
   ]
  },
  {
   "cell_type": "code",
   "execution_count": null,
   "metadata": {},
   "outputs": [],
   "source": []
  },
  {
   "cell_type": "code",
   "execution_count": null,
   "metadata": {},
   "outputs": [],
   "source": []
  },
  {
   "cell_type": "code",
   "execution_count": null,
   "metadata": {},
   "outputs": [],
   "source": []
  }
 ],
 "metadata": {
  "kaggle": {
   "accelerator": "nvidiaTeslaT4",
   "dataSources": [
    {
     "databundleVersionId": 869809,
     "sourceId": 17777,
     "sourceType": "competition"
    }
   ],
   "dockerImageVersionId": 30558,
   "isGpuEnabled": true,
   "isInternetEnabled": false,
   "language": "python",
   "sourceType": "notebook"
  },
  "kernelspec": {
   "display_name": "Python 3 (ipykernel)",
   "language": "python",
   "name": "python3"
  },
  "language_info": {
   "codemirror_mode": {
    "name": "ipython",
    "version": 3
   },
   "file_extension": ".py",
   "mimetype": "text/x-python",
   "name": "python",
   "nbconvert_exporter": "python",
   "pygments_lexer": "ipython3",
   "version": "3.7.8"
  }
 },
 "nbformat": 4,
 "nbformat_minor": 4
}
